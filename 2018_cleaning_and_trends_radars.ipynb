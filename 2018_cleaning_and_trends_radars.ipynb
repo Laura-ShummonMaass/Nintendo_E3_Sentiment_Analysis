{
 "cells": [
  {
   "cell_type": "markdown",
   "metadata": {},
   "source": [
    "# 2018 NINTENDO SENTIMENT"
   ]
  },
  {
   "cell_type": "markdown",
   "metadata": {},
   "source": [
    "## Import Relevant Libraries"
   ]
  },
  {
   "cell_type": "code",
   "execution_count": 1,
   "metadata": {},
   "outputs": [
    {
     "name": "stderr",
     "output_type": "stream",
     "text": [
      "[nltk_data] Downloading package stopwords to\n",
      "[nltk_data]     /Users/laurashummonmaass/nltk_data...\n",
      "[nltk_data]   Package stopwords is already up-to-date!\n",
      "[nltk_data] Downloading package wordnet to\n",
      "[nltk_data]     /Users/laurashummonmaass/nltk_data...\n",
      "[nltk_data]   Package wordnet is already up-to-date!\n",
      "[nltk_data] Downloading package averaged_perceptron_tagger to\n",
      "[nltk_data]     /Users/laurashummonmaass/nltk_data...\n",
      "[nltk_data]   Package averaged_perceptron_tagger is already up-to-\n",
      "[nltk_data]       date!\n"
     ]
    },
    {
     "data": {
      "text/plain": [
       "True"
      ]
     },
     "execution_count": 1,
     "metadata": {},
     "output_type": "execute_result"
    }
   ],
   "source": [
    "import json\n",
    "import pandas as pd\n",
    "import numpy as np\n",
    "from pandas.io.json import json_normalize\n",
    "import datetime\n",
    "from datetime import timezone\n",
    "import string\n",
    "import nltk\n",
    "from sklearn.feature_extraction.text import CountVectorizer\n",
    "import matplotlib.pyplot as plt\n",
    "from math import pi\n",
    "import time \n",
    "import pickle\n",
    "from nltk.corpus import wordnet, stopwords\n",
    "from nltk.stem import WordNetLemmatizer \n",
    "from vaderSentiment.vaderSentiment import SentimentIntensityAnalyzer\n",
    "\n",
    "nltk.download('stopwords')\n",
    "nltk.download('wordnet')\n",
    "nltk.download('averaged_perceptron_tagger')"
   ]
  },
  {
   "cell_type": "markdown",
   "metadata": {},
   "source": [
    "## Load Tweets to DF"
   ]
  },
  {
   "cell_type": "code",
   "execution_count": 2,
   "metadata": {},
   "outputs": [],
   "source": [
    "tweets = []\n",
    "for line in open('NintendoTweets.json', 'r'):\n",
    "    if len(line)>1:\n",
    "        tweets.append(json.loads(line))"
   ]
  },
  {
   "cell_type": "markdown",
   "metadata": {},
   "source": [
    "Flatten json and turn into pandas df."
   ]
  },
  {
   "cell_type": "code",
   "execution_count": 3,
   "metadata": {},
   "outputs": [],
   "source": [
    "df = json_normalize(tweets)"
   ]
  },
  {
   "cell_type": "markdown",
   "metadata": {},
   "source": [
    "## DF Cleaning"
   ]
  },
  {
   "cell_type": "code",
   "execution_count": 4,
   "metadata": {},
   "outputs": [
    {
     "data": {
      "text/plain": [
       "104695"
      ]
     },
     "execution_count": 4,
     "metadata": {},
     "output_type": "execute_result"
    }
   ],
   "source": [
    "len(df)"
   ]
  },
  {
   "cell_type": "markdown",
   "metadata": {},
   "source": [
    "Select relevant columns"
   ]
  },
  {
   "cell_type": "code",
   "execution_count": 5,
   "metadata": {},
   "outputs": [],
   "source": [
    "df = df[['user.id', 'text', 'lang', 'created_at', 'timestamp_ms']]"
   ]
  },
  {
   "cell_type": "markdown",
   "metadata": {},
   "source": [
    "Filter for English only (also uses only relevant columns)  "
   ]
  },
  {
   "cell_type": "code",
   "execution_count": 6,
   "metadata": {},
   "outputs": [],
   "source": [
    " df = df.loc[df['lang'] == 'en']"
   ]
  },
  {
   "cell_type": "markdown",
   "metadata": {},
   "source": [
    "Add a .time. column showing H:M:S    "
   ]
  },
  {
   "cell_type": "code",
   "execution_count": 7,
   "metadata": {},
   "outputs": [],
   "source": [
    "#outputs str\n",
    "df['.time.'] = df['created_at'].map(lambda x: x[11:19]) "
   ]
  },
  {
   "cell_type": "code",
   "execution_count": 8,
   "metadata": {},
   "outputs": [],
   "source": [
    "#outputs datetime.time\n",
    "df['datetime'] = df['.time.'].map(lambda x: datetime.datetime.strptime(x, \"%H:%M:%S\"))\n",
    "df['datetime'] = df['datetime'].map(lambda x: x.time())"
   ]
  },
  {
   "cell_type": "markdown",
   "metadata": {},
   "source": [
    "Remove any duplicate rows."
   ]
  },
  {
   "cell_type": "code",
   "execution_count": 9,
   "metadata": {},
   "outputs": [],
   "source": [
    "df = df.drop_duplicates(subset=None, keep='first')"
   ]
  },
  {
   "cell_type": "markdown",
   "metadata": {},
   "source": [
    "## EDA"
   ]
  },
  {
   "cell_type": "code",
   "execution_count": 10,
   "metadata": {},
   "outputs": [
    {
     "data": {
      "text/plain": [
       "71378"
      ]
     },
     "execution_count": 10,
     "metadata": {},
     "output_type": "execute_result"
    }
   ],
   "source": [
    "len(df)"
   ]
  },
  {
   "cell_type": "code",
   "execution_count": 11,
   "metadata": {},
   "outputs": [
    {
     "name": "stdout",
     "output_type": "stream",
     "text": [
      "<class 'pandas.core.frame.DataFrame'>\n",
      "Int64Index: 71378 entries, 0 to 104694\n",
      "Data columns (total 7 columns):\n",
      "user.id         71378 non-null float64\n",
      "text            71378 non-null object\n",
      "lang            71378 non-null object\n",
      "created_at      71378 non-null object\n",
      "timestamp_ms    71378 non-null object\n",
      ".time.          71378 non-null object\n",
      "datetime        71378 non-null object\n",
      "dtypes: float64(1), object(6)\n",
      "memory usage: 4.4+ MB\n"
     ]
    }
   ],
   "source": [
    "df.info()"
   ]
  },
  {
   "cell_type": "code",
   "execution_count": 12,
   "metadata": {},
   "outputs": [
    {
     "data": {
      "text/plain": [
       "user.id         0\n",
       "text            0\n",
       "lang            0\n",
       "created_at      0\n",
       "timestamp_ms    0\n",
       ".time.          0\n",
       "datetime        0\n",
       "dtype: int64"
      ]
     },
     "execution_count": 12,
     "metadata": {},
     "output_type": "execute_result"
    }
   ],
   "source": [
    "df.isna().sum()"
   ]
  },
  {
   "cell_type": "code",
   "execution_count": 13,
   "metadata": {},
   "outputs": [
    {
     "name": "stdout",
     "output_type": "stream",
     "text": [
      "16:00:24\n",
      "17:00:23\n"
     ]
    }
   ],
   "source": [
    "print(df['.time.'].min())\n",
    "print(df['.time.'].max())"
   ]
  },
  {
   "cell_type": "markdown",
   "metadata": {},
   "source": [
    "## Text Cleaning"
   ]
  },
  {
   "cell_type": "markdown",
   "metadata": {},
   "source": [
    "Remove any words starting with: #, @, or http and put cleaned text into new 'text2' column."
   ]
  },
  {
   "cell_type": "code",
   "execution_count": 14,
   "metadata": {},
   "outputs": [],
   "source": [
    "def unique_hashtag_list(df1):\n",
    "    hashtags = []\n",
    "    for text in df1['text']:\n",
    "        words = text.split(' ')\n",
    "        for i in words:\n",
    "            if i.startswith('#'):\n",
    "                hashtags.append(i)\n",
    "            else:\n",
    "                pass\n",
    "    unique_hashtags = set(hashtags)\n",
    "    unique_hashtags = list(unique_hashtags)\n",
    "    return unique_hashtags\n",
    "\n",
    "def unique_link_list(df1):\n",
    "    links = []\n",
    "    for text in df1['text']:\n",
    "        words = text.split(' ')\n",
    "        for i in words:\n",
    "            if i.startswith('http'):\n",
    "                links.append(i)\n",
    "            else:\n",
    "                pass\n",
    "    unique_links = set(links)\n",
    "    unique_links = list(unique_links)\n",
    "    return unique_links\n",
    "\n",
    "def unique_ats_list(df1):\n",
    "    ats = []\n",
    "    for text in df1['text']:\n",
    "        words = text.split(' ')\n",
    "        for i in words:\n",
    "            if i.startswith('@'):\n",
    "                ats.append(i)\n",
    "            else:\n",
    "                pass\n",
    "    unique_ats = set(ats)\n",
    "    unique_ats = list(unique_ats)\n",
    "    return unique_ats"
   ]
  },
  {
   "cell_type": "code",
   "execution_count": 15,
   "metadata": {},
   "outputs": [],
   "source": [
    "def create_text2_without_hash_ats_links(df1):\n",
    "    words_to_remove_lists = [unique_hashtag_list(df1)] + [unique_link_list(df1)] + [unique_ats_list(df1)]\n",
    "    words_to_remove = []\n",
    "    for sublist in words_to_remove_lists:\n",
    "        for i in sublist:\n",
    "            words_to_remove.append(i)\n",
    "    texts_final = []\n",
    "    for tweet in df1['text']:\n",
    "        words = tweet.split()\n",
    "        resultwords = [i for i in words if i not in words_to_remove]\n",
    "        result = ' '.join(resultwords)\n",
    "        texts_final.append(result)\n",
    "    df1['text2'] = texts_final"
   ]
  },
  {
   "cell_type": "code",
   "execution_count": 16,
   "metadata": {},
   "outputs": [],
   "source": [
    "create_text2_without_hash_ats_links(df)"
   ]
  },
  {
   "cell_type": "markdown",
   "metadata": {},
   "source": [
    "Remove punctuation"
   ]
  },
  {
   "cell_type": "code",
   "execution_count": 17,
   "metadata": {},
   "outputs": [],
   "source": [
    "def strip_punctuation(tweet):\n",
    "    return ''.join(c for c in tweet if c not in string.punctuation)\n",
    "\n",
    "def remove_punctuation(df1):\n",
    "    punctuation_free = []\n",
    "    for tweet in df1['text2']:\n",
    "        punctuation_free.append(strip_punctuation(tweet))\n",
    "    df1['text2'] = punctuation_free"
   ]
  },
  {
   "cell_type": "code",
   "execution_count": 18,
   "metadata": {},
   "outputs": [],
   "source": [
    "remove_punctuation(df)"
   ]
  },
  {
   "cell_type": "markdown",
   "metadata": {},
   "source": [
    "Make lower case"
   ]
  },
  {
   "cell_type": "code",
   "execution_count": 19,
   "metadata": {},
   "outputs": [],
   "source": [
    "def make_lower_case(df1):\n",
    "    lower_case = []\n",
    "    for tweet in df1['text2']:\n",
    "        lower_case.append(tweet.lower())\n",
    "    df1['text2'] = lower_case"
   ]
  },
  {
   "cell_type": "code",
   "execution_count": 20,
   "metadata": {},
   "outputs": [],
   "source": [
    "make_lower_case(df)"
   ]
  },
  {
   "cell_type": "markdown",
   "metadata": {},
   "source": [
    "Lemmatize"
   ]
  },
  {
   "cell_type": "code",
   "execution_count": 21,
   "metadata": {},
   "outputs": [],
   "source": [
    "def get_wordnet_pos(word):\n",
    "    \"\"\"Map POS tag to first character lemmatize() accepts\"\"\"\n",
    "    tag = nltk.pos_tag([word])[0][1][0].upper()\n",
    "    tag_dict = {\"J\": wordnet.ADJ,\n",
    "                \"N\": wordnet.NOUN,\n",
    "                \"V\": wordnet.VERB,\n",
    "                \"R\": wordnet.ADV}\n",
    "    return tag_dict.get(tag, wordnet.NOUN)\n",
    "\n",
    "def lemmatize_text(df1):\n",
    "    lemmatizer = WordNetLemmatizer()\n",
    "    lemmatized_tweets = []\n",
    "    for tweet in df1['text2']:\n",
    "        lemmatized = [lemmatizer.lemmatize(tweet, get_wordnet_pos(tweet)) for tweet in nltk.word_tokenize(tweet)]\n",
    "        combined_words = [' '.join(lemmatized)]\n",
    "        lemmatized_tweets.append(combined_words)\n",
    "    lemmatized_tweets_final = [''.join(x) for x in lemmatized_tweets]\n",
    "    df1['text2'] = lemmatized_tweets_final"
   ]
  },
  {
   "cell_type": "code",
   "execution_count": 22,
   "metadata": {},
   "outputs": [],
   "source": [
    "lemmatize_text(df)"
   ]
  },
  {
   "cell_type": "markdown",
   "metadata": {},
   "source": [
    "Remove stop words"
   ]
  },
  {
   "cell_type": "code",
   "execution_count": 23,
   "metadata": {},
   "outputs": [],
   "source": [
    "def remove_stop_words(df1):\n",
    "    stop_word_free = []\n",
    "    for tweet in df1['text2']:\n",
    "        words = tweet.split()\n",
    "        resultwords = [i for i in words if i not in stopwords.words('english')]\n",
    "        result = ' '.join(resultwords)\n",
    "        stop_word_free.append(result)\n",
    "    df1['text2'] = stop_word_free"
   ]
  },
  {
   "cell_type": "code",
   "execution_count": 24,
   "metadata": {},
   "outputs": [],
   "source": [
    "remove_stop_words(df)"
   ]
  },
  {
   "cell_type": "markdown",
   "metadata": {},
   "source": [
    "Remove links again (some links left over if they began with punctuation)"
   ]
  },
  {
   "cell_type": "code",
   "execution_count": 25,
   "metadata": {},
   "outputs": [],
   "source": [
    "def remove_just_links(df1):\n",
    "    unique_links2 = set(unique_link_list(df1))\n",
    "    texts_final_no_http = []\n",
    "    for tweet in df1['text2']:\n",
    "        words = tweet.split()\n",
    "        resultwords = [i for i in words if i not in unique_links2]\n",
    "        result = ' '.join(resultwords)\n",
    "        texts_final_no_http.append(result)\n",
    "    df1['text2'] = texts_final_no_http"
   ]
  },
  {
   "cell_type": "code",
   "execution_count": 26,
   "metadata": {},
   "outputs": [],
   "source": [
    "remove_just_links(df)"
   ]
  },
  {
   "cell_type": "markdown",
   "metadata": {},
   "source": [
    "Reset Index"
   ]
  },
  {
   "cell_type": "code",
   "execution_count": 27,
   "metadata": {},
   "outputs": [],
   "source": [
    "df = df.reset_index()"
   ]
  },
  {
   "cell_type": "markdown",
   "metadata": {},
   "source": [
    "## Vader Sentiments"
   ]
  },
  {
   "cell_type": "code",
   "execution_count": 28,
   "metadata": {},
   "outputs": [],
   "source": [
    "def vader_sentiment(df1):\n",
    "    analyzer = SentimentIntensityAnalyzer()\n",
    "    vader_output = []\n",
    "    for tweet in df1['text']:\n",
    "        vader_output.append(analyzer.polarity_scores(tweet))\n",
    "    return vader_output"
   ]
  },
  {
   "cell_type": "code",
   "execution_count": 29,
   "metadata": {},
   "outputs": [],
   "source": [
    "vader_output = vader_sentiment(df)"
   ]
  },
  {
   "cell_type": "code",
   "execution_count": 30,
   "metadata": {},
   "outputs": [],
   "source": [
    "matrix_df = json_normalize(vader_output)"
   ]
  },
  {
   "cell_type": "code",
   "execution_count": 31,
   "metadata": {},
   "outputs": [],
   "source": [
    "df = pd.concat([df, matrix_df], axis=1)"
   ]
  },
  {
   "cell_type": "markdown",
   "metadata": {},
   "source": [
    "## Trend Lines - Grouped by 5 Seconds"
   ]
  },
  {
   "cell_type": "code",
   "execution_count": 32,
   "metadata": {},
   "outputs": [],
   "source": [
    "def unique_seconds_list(df1):\n",
    "    '''Creates a list of every unique second in the dataframe's .time. col.'''\n",
    "    unique_seconds = []\n",
    "    for times in df1['.time.']:\n",
    "        all_times = []\n",
    "        all_times.append(times)\n",
    "        for i in all_times:\n",
    "            if not i in unique_seconds:\n",
    "                unique_seconds.append(i)\n",
    "    return unique_seconds  "
   ]
  },
  {
   "cell_type": "code",
   "execution_count": 33,
   "metadata": {},
   "outputs": [],
   "source": [
    "unique_seconds = unique_seconds_list(df)"
   ]
  },
  {
   "cell_type": "code",
   "execution_count": 34,
   "metadata": {},
   "outputs": [],
   "source": [
    "def second_groupings(seconds, seconds_list):\n",
    "    '''Returns a list with len equal to the rows of the dataframe.'''\n",
    "    '''Assigns each tweet to a group dependant on it's time.'''\n",
    "    second_groups = []\n",
    "    for second in seconds_list:\n",
    "        if len(second_groups)==0:\n",
    "            second_groups.append(1)\n",
    "        elif len(second_groups)%seconds != 0:\n",
    "            second_groups.append(second_groups[-1])\n",
    "        else:\n",
    "            second_groups.append(second_groups[-1]+1)\n",
    "    return second_groups # creates a list to be mapped back to the df for grouping"
   ]
  },
  {
   "cell_type": "code",
   "execution_count": 35,
   "metadata": {},
   "outputs": [],
   "source": [
    "list_of_second_groups = second_groupings(5, unique_seconds)"
   ]
  },
  {
   "cell_type": "code",
   "execution_count": 36,
   "metadata": {},
   "outputs": [],
   "source": [
    "seconds_dict = dict(zip(unique_seconds, list_of_second_groups))"
   ]
  },
  {
   "cell_type": "markdown",
   "metadata": {},
   "source": [
    "Use the dictionary above to assign each tweet to a 5 second group"
   ]
  },
  {
   "cell_type": "code",
   "execution_count": 37,
   "metadata": {},
   "outputs": [],
   "source": [
    "df['5_seconds'] = df['.time.'].map(seconds_dict)"
   ]
  },
  {
   "cell_type": "markdown",
   "metadata": {},
   "source": [
    "Trend line"
   ]
  },
  {
   "cell_type": "code",
   "execution_count": 38,
   "metadata": {},
   "outputs": [],
   "source": [
    "def trend_line_by_5_sec(df1, sum_mean='sum'):    \n",
    "    #sum or mean\n",
    "    if sum_mean=='sum':\n",
    "        trend_df = df1.groupby('5_seconds').sum() \n",
    "    elif sum_mean=='mean':\n",
    "        trend_df = df1.groupby('5_seconds').mean() \n",
    "    trend_df = trend_df.reset_index()   \n",
    "    #invert negative sentiments\n",
    "    trend_df['neg'] = trend_df['neg'].map(lambda x: x * -1)\n",
    "    #plotting trend graph\n",
    "    plt.plot(trend_df['5_seconds'], trend_df['pos'], color='red')\n",
    "    plt.plot(trend_df['5_seconds'], trend_df['neg'], color='grey')\n",
    "    plt.xlabel('Every 5 Seconds')\n",
    "    plt.ylabel('Sentiment')\n",
    "    plt.title('Nintendo E3 Twitter Sentiments (sum)')\n",
    "    plt.legend()\n",
    "    plt.show()"
   ]
  },
  {
   "cell_type": "code",
   "execution_count": 39,
   "metadata": {},
   "outputs": [
    {
     "data": {
      "image/png": "[encoded data removed]",
      "text/plain": [
       "<Figure size 432x288 with 1 Axes>"
      ]
     },
     "metadata": {
      "needs_background": "light"
     },
     "output_type": "display_data"
    }
   ],
   "source": [
    "trend_line_by_5_sec(df)"
   ]
  },
  {
   "cell_type": "markdown",
   "metadata": {},
   "source": [
    "## Trend Lines - With Time Selector"
   ]
  },
  {
   "cell_type": "code",
   "execution_count": 40,
   "metadata": {},
   "outputs": [],
   "source": [
    "def dict_by_index_of_filtered_times(df1,\n",
    "                                    start_time_str='16:07:24', \n",
    "                                    end_time_str='16:10:46'):\n",
    "    #print(start_time_str, end_time_str)\n",
    "    every_index = df1['index']\n",
    "    #convert input strings to datetime.time\n",
    "    start_time = datetime.datetime.strptime(start_time_str, \"%H:%M:%S\")\n",
    "    start_time = start_time.time()\n",
    "    end_time = datetime.datetime.strptime(end_time_str, \"%H:%M:%S\")\n",
    "    end_time = end_time.time()\n",
    "    #filters by time (returns in True/False)\n",
    "    specific_times = (df1['datetime'] > start_time) & (df1['datetime'] <= end_time)\n",
    "    #converting True False to boolean\n",
    "    specific_times_final = []\n",
    "    for i in specific_times:\n",
    "        if i == False:\n",
    "            specific_times_final.append(0)\n",
    "        elif i == True:\n",
    "            specific_times_final.append(1)\n",
    "    \n",
    "    times_dict = dict(zip(every_index, specific_times_final))\n",
    "    times_only_dict = dict((k, v) for k, v in times_dict.items() if v == 1)\n",
    "    return times_only_dict"
   ]
  },
  {
   "cell_type": "code",
   "execution_count": 53,
   "metadata": {},
   "outputs": [],
   "source": [
    "def trend_line_by_time(df1, \n",
    "                  start_time_str='16:07:24', \n",
    "                  end_time_str='16:10:36',\n",
    "                  sum_mean='sum'\n",
    "                 ):\n",
    "    '''Returns a trend line using start and end times'''\n",
    "    criteria = dict_by_index_of_filtered_times(df1, \n",
    "                                    start_time_str=start_time_str,\n",
    "                                    end_time_str=end_time_str)\n",
    "    if 'temp_criteria_col' not in df1.columns:\n",
    "        pass\n",
    "    else:\n",
    "        df1.drop(['temp_criteria_col'], axis=1)\n",
    "    df1['temp_criteria_col'] = df1['index'].map(criteria)\n",
    "    df1['temp_criteria_col'].fillna(0, inplace=True)\n",
    "    if sum_mean == 'sum':\n",
    "        trend_df = df1.loc[df1['temp_criteria_col'] == 1]\n",
    "        trend_df = trend_df.groupby('datetime').sum()\n",
    "    elif sum_mean == 'mean':\n",
    "        trend_df = df1.loc[df1['temp_criteria_col'] == 1]\n",
    "        trend_df = trend_df.groupby('datetime').mean()\n",
    "    #NEW LINE -- negate trend_df['neg']\n",
    "    trend_df['neg'] = trend_df['neg'].map(lambda x: x * -1)\n",
    "    #plot trend_line\n",
    "    plt.plot(trend_df['pos'], color='red')\n",
    "#ax.plot()\n",
    "#fig,ax = plt.subplots()\n",
    "    plt.plot(trend_df['neg'], color='grey')\n",
    "    plt.xlabel('Seconds')\n",
    "    plt.ylabel('Sentiment')\n",
    "    plt.title('Nintendo E3 Twitter Sentiments (sum)')\n",
    "    plt.legend()\n",
    "    return plt.show()"
   ]
  },
  {
   "cell_type": "code",
   "execution_count": 54,
   "metadata": {},
   "outputs": [
    {
     "data": {
      "image/png": "[encoded data removed]",
      "text/plain": [
       "<Figure size 432x288 with 1 Axes>"
      ]
     },
     "metadata": {
      "needs_background": "light"
     },
     "output_type": "display_data"
    }
   ],
   "source": [
    "trend_line_by_time(df)"
   ]
  },
  {
   "cell_type": "markdown",
   "metadata": {},
   "source": [
    "## Radar Plots - With Time Selector"
   ]
  },
  {
   "cell_type": "code",
   "execution_count": 43,
   "metadata": {},
   "outputs": [],
   "source": [
    "#FIRST\n",
    "def unique_words_list(df1):\n",
    "    '''Creates a list of every unique word in the text2 column of the df.'''\n",
    "    total_words = []\n",
    "    for i in df1['text2']:\n",
    "        words = i.split()\n",
    "        for j in words:\n",
    "            total_words.append(j)\n",
    "    unique_words = [] \n",
    "    for i in total_words:\n",
    "        if not i in unique_words:\n",
    "            unique_words.append(i)\n",
    "    return unique_words"
   ]
  },
  {
   "cell_type": "code",
   "execution_count": 44,
   "metadata": {},
   "outputs": [],
   "source": [
    "#SECOND\n",
    "def vectorize_to_matrix_df(df1):\n",
    "    '''Creates a dataframe of sentiments (each word is a col)'''\n",
    "    vectorizer = CountVectorizer(vocabulary=unique_words_list(df1))\n",
    "    vectorized_words = vectorizer.transform(df1['text2'])\n",
    "    word_array = vectorized_words.toarray()\n",
    "    matrix_df = pd.DataFrame(word_array, columns=unique_words_list(df1), index=df1.index) \n",
    "    return matrix_df"
   ]
  },
  {
   "cell_type": "code",
   "execution_count": 45,
   "metadata": {},
   "outputs": [],
   "source": [
    "#THIRD\n",
    "def words_df(df1):\n",
    "    '''Merges the words dataframe to the original df.'''\n",
    "    #get column headings ready, don't want duplicates with text\n",
    "    df = df1.rename(index=str, columns={\"text\": \".text.\", \"lang\": \".lang.\", \"time\":\".time.\"})\n",
    "    #remove index and reset index\n",
    "    df = df.drop('index', 1)\n",
    "    df = df.reset_index()\n",
    "    df = df.rename(index=str, columns={'index': 'df_index'})\n",
    "    #create a matrix dataframe of words\n",
    "    matrix_df = vectorize_to_matrix_df(df1).reset_index()\n",
    "    matrix_df = matrix_df.rename(index=str, columns={'index': 'matrix_df_index'})\n",
    "    df_words = df.join(matrix_df)\n",
    "    return df_words"
   ]
  },
  {
   "cell_type": "code",
   "execution_count": 46,
   "metadata": {},
   "outputs": [],
   "source": [
    "#FOURTH\n",
    "# must be used with words_df as df1... needs to have words as cols included\n",
    "def create_dictionary_for_specified_time (df1, which_five='top'): #time=1, seconds=5, which_five='top'): # choose either 'top' or 'bottom'\n",
    "    '''Outputs dict of top or bottom 5 words per compound sum'''\n",
    "    #filters df by time (temp_criteria_col is 1 if its in time range)\n",
    "    df_filtered_by_temp_col = df1.loc[(df1['temp_criteria_col']== 1)]  #| (df_words['five_seconds']== 2)]\n",
    "    #makes a dictionary of dictionary where main key is seconds\n",
    "    dict_by_seconds = df_filtered_by_temp_col.to_dict(orient='index') \n",
    "    #create a cleaned dictionary for each word labeled by tweet number\n",
    "    list_of_word_dicts = []\n",
    "    for key1, val in dict_by_seconds.items():\n",
    "        u_words = val['text2'].split(' ')\n",
    "        neg = val['neg']\n",
    "        compound = val['compound']\n",
    "        neu = val['neu']\n",
    "        pos = val['pos']\n",
    "        for key, value in val.items():\n",
    "            try:\n",
    "                value = float(value)\n",
    "                if (value > 0) & (key in u_words) :\n",
    "                    list_of_word_dicts.append({ \n",
    "                            'tweet_no': key1,\n",
    "                            key:{'count': 1, 'compound_sum': compound, 'neg_sum': neg, \n",
    "                                 'neu_sum': neu, 'pos_sum': pos},\n",
    "                                                })\n",
    "            except:\n",
    "                pass  \n",
    "    # remove duplicate words that appear several times in one tweet\n",
    "    no_dupl_list_of_word_dicts = [i for n, i in enumerate(list_of_word_dicts) \n",
    "                                  if i not in list_of_word_dicts[n + 1:]]    \n",
    "    return_dict = {}\n",
    "    for i in no_dupl_list_of_word_dicts:\n",
    "        for key, val in i.items():\n",
    "            if key is not 'tweet_no':\n",
    "                if key not in return_dict.keys():\n",
    "                    return_dict.update({key : val})\n",
    "                else:\n",
    "                    return_dict[key]['count'] += val['count']\n",
    "                    return_dict[key]['compound_sum'] += val['compound_sum']\n",
    "                    return_dict[key]['neg_sum'] += val['neg_sum']\n",
    "                    return_dict[key]['neu_sum'] += val['neu_sum']\n",
    "                    return_dict[key]['pos_sum'] += val['pos_sum']                   \n",
    "    compound_dict = {}\n",
    "    for key, val in return_dict.items():\n",
    "        #print(key, val)\n",
    "        #compound_dict.update({key: val['compound_sum'] })\n",
    "        compound_dict[key] = val['compound_sum']\n",
    "    sorted_compound_dict = sorted(compound_dict.items(), key=lambda kv: kv[1])   \n",
    "    if which_five == 'top':\n",
    "        #five_words = dict(sorted_compound_dict[0:5])\n",
    "        five_words = dict(sorted_compound_dict[-5:])\n",
    "    elif which_five == 'bottom': \n",
    "        #five_words = dict(sorted_compound_dict[-5:])\n",
    "        five_words = dict(sorted_compound_dict[0:5])\n",
    "    else:\n",
    "        \"Please choose either 'top' or 'bottom'.\"\n",
    "    return five_words"
   ]
  },
  {
   "cell_type": "code",
   "execution_count": 47,
   "metadata": {},
   "outputs": [],
   "source": [
    "#FIFTH\n",
    "def top_5_dict_to_df(df1, which_five='top'):  \n",
    "    '''Outputs the top/bottom 5 words into a df, formatted for radar plot'''\n",
    "    top_5_df = pd.Series(create_dictionary_for_specified_time(df1, \n",
    "                                                              which_five=which_five))\n",
    "    top_5_df = pd.DataFrame(top_5_df)\n",
    "    top_5_df = top_5_df.T\n",
    "    top_5_df['group'] = 'A'\n",
    "    return top_5_df"
   ]
  },
  {
   "cell_type": "code",
   "execution_count": 48,
   "metadata": {},
   "outputs": [],
   "source": [
    "#SIXTH\n",
    "def output_radar_plot(df1, which_five='top'):\n",
    "    '''Returns a radar plot'''\n",
    "    # Set data\n",
    "    radar_df = top_5_dict_to_df(df1,\n",
    "                                         which_five=which_five)\n",
    "    # Make negative values positive\n",
    "    if which_five=='bottom':\n",
    "        radar_df = radar_df.apply(lambda x: x * -1)\n",
    "    else:\n",
    "        pass\n",
    "    # Find largest score, will affect radar plot size\n",
    "    dictionary = create_dictionary_for_specified_time(df1,\n",
    "                                                         which_five=which_five)\n",
    "    list_of_scores = []\n",
    "    for k, v in dictionary.items():\n",
    "        list_of_scores.append(v)\n",
    "    if which_five=='top':\n",
    "        relevant_score = max(list_of_scores)\n",
    "    elif which_five=='bottom':\n",
    "        relevant_score = (min(list_of_scores))*-1\n",
    "    # number of variable\n",
    "    categories=list(radar_df)[1:]\n",
    "    N = len(categories)\n",
    "    # We are going to plot the first line of the data frame.\n",
    "    # But we need to repeat the first value to close the circular graph:\n",
    "    values=radar_df.loc[0].drop('group').values.flatten().tolist()\n",
    "    values += values[:1]\n",
    "    values\n",
    "    # What will be the angle of each axis in the plot? (we divide the plot / number of variable)\n",
    "    angles = [n / float(N) * 2 * pi for n in range(N)]\n",
    "    angles += angles[:1]\n",
    "    # Initialise the spider plot\n",
    "    ax = plt.subplot(111, polar=True)\n",
    "    # Draw one axe per variable + add labels labels yet\n",
    "    plt.xticks(angles[:-1], categories, color='grey', size=8)\n",
    "    # Draw ylabels\n",
    "    ax.set_rlabel_position(0)\n",
    "    plt.yticks([0,(relevant_score*.33),(relevant_score*.66),(relevant_score)], \n",
    "               [0, \"\", \"\", \"\"], color=\"grey\", size=7)\n",
    "    plt.ylim(0,(relevant_score))\n",
    "    # Plot data\n",
    "    if which_five == 'top':\n",
    "        ax.plot(angles, values, linewidth=1, linestyle='solid', color='red')\n",
    "    elif which_five == 'bottom':\n",
    "        ax.plot(angles, values, linewidth=1, linestyle='solid', color='grey')\n",
    "    # Fill area\n",
    "    if which_five == 'top':\n",
    "        radar_plot = ax.fill(angles, values, 'red', alpha=0.1);  \n",
    "    elif which_five == 'bottom':\n",
    "        radar_plot = ax.fill(angles, values, 'grey', alpha=0.1);    \n",
    "    return radar_plot"
   ]
  },
  {
   "cell_type": "code",
   "execution_count": 49,
   "metadata": {},
   "outputs": [],
   "source": [
    "#SEVENTH\n",
    "def automating_radar_plots(df1, \n",
    "                           start_time='16:07:24', \n",
    "                           end_time='16:08:36', \n",
    "                           which_five='top'):\n",
    "    '''Turns original df into radar plot.'''\n",
    "    criteria = dict_by_index_of_filtered_times(df1, \n",
    "                                            start_time_str=start_time,\n",
    "                                            end_time_str=end_time)\n",
    "    if 'temp_criteria_col' not in df1.columns:\n",
    "        pass\n",
    "    else:\n",
    "        df1.drop(['temp_criteria_col'], axis=1)\n",
    "    #df = df1.drop(['temp_criteria_col'], axis=1)\n",
    "    df1['temp_criteria_col'] = df1['index'].map(criteria)\n",
    "    df1['temp_criteria_col'].fillna(0, inplace=True)\n",
    "    word_df=words_df(df1) \n",
    "    return output_radar_plot(word_df,which_five=which_five)"
   ]
  },
  {
   "cell_type": "code",
   "execution_count": 51,
   "metadata": {},
   "outputs": [
    {
     "data": {
      "text/plain": [
       "[<matplotlib.patches.Polygon at 0x1a98d359b0>]"
      ]
     },
     "execution_count": 51,
     "metadata": {},
     "output_type": "execute_result"
    },
    {
     "data": {
      "image/png": "[encoded data removed]",
      "text/plain": [
       "<Figure size 432x288 with 1 Axes>"
      ]
     },
     "metadata": {
      "needs_background": "dark"
     },
     "output_type": "display_data"
    }
   ],
   "source": [
    "automating_radar_plots(df, \n",
    "                           start_time='16:07:24', \n",
    "                           end_time='16:08:36', \n",
    "                           which_five='bottom')"
   ]
  },
  {
   "cell_type": "code",
   "execution_count": null,
   "metadata": {},
   "outputs": [],
   "source": []
  },
  {
   "cell_type": "code",
   "execution_count": null,
   "metadata": {},
   "outputs": [],
   "source": []
  },
  {
   "cell_type": "code",
   "execution_count": null,
   "metadata": {},
   "outputs": [],
   "source": []
  },
  {
   "cell_type": "code",
   "execution_count": null,
   "metadata": {},
   "outputs": [],
   "source": []
  }
 ],
 "metadata": {
  "kernelspec": {
   "display_name": "Python 3",
   "language": "python",
   "name": "python3"
  },
  "language_info": {
   "codemirror_mode": {
    "name": "ipython",
    "version": 3
   },
   "file_extension": ".py",
   "mimetype": "text/x-python",
   "name": "python",
   "nbconvert_exporter": "python",
   "pygments_lexer": "ipython3",
   "version": "3.7.1"
  }
 },
 "nbformat": 4,
 "nbformat_minor": 2
}
