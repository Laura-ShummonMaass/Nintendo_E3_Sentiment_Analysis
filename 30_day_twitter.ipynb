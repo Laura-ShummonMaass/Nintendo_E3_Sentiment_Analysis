{
 "cells": [
  {
   "cell_type": "markdown",
   "metadata": {},
   "source": [
    "TIME OF CONFERENCE:   \n",
    "June 11 at 9 a.m. PT/12 p.m. ET"
   ]
  },
  {
   "cell_type": "code",
   "execution_count": 1,
   "metadata": {},
   "outputs": [],
   "source": [
    "%load_ext autoreload\n",
    "%autoreload 2"
   ]
  },
  {
   "cell_type": "code",
   "execution_count": 2,
   "metadata": {},
   "outputs": [],
   "source": [
    "import pandas as pd\n",
    "import datetime\n",
    "from datetime import timezone\n",
    "from nintendo_functions_2 import (\n",
    "    fetch_from_cache_or_api, \n",
    "    get_token, \n",
    "    get_tweets, \n",
    "    store_many_tweets, \n",
    "    store_response_tweets, \n",
    "    tweet_coll)"
   ]
  },
  {
   "cell_type": "code",
   "execution_count": 3,
   "metadata": {},
   "outputs": [
    {
     "name": "stdout",
     "output_type": "stream",
     "text": [
      "Found in cache! Yay!\n",
      "1\n",
      "Found in cache! Yay!\n",
      "2\n",
      "Found in cache! Yay!\n",
      "3\n",
      "Found in cache! Yay!\n",
      "4\n",
      "Found in cache! Yay!\n",
      "5\n",
      "Found in cache! Yay!\n",
      "6\n",
      "Found in cache! Yay!\n",
      "7\n",
      "Found in cache! Yay!\n",
      "8\n",
      "Found in cache! Yay!\n",
      "9\n",
      "Found in cache! Yay!\n",
      "10\n",
      "Found in cache! Yay!\n",
      "11\n",
      "Found in cache! Yay!\n",
      "12\n",
      "Found in cache! Yay!\n",
      "13\n",
      "Found in cache! Yay!\n",
      "14\n",
      "Found in cache! Yay!\n",
      "15\n",
      "Found in cache! Yay!\n",
      "16\n",
      "Found in cache! Yay!\n",
      "17\n",
      "Found in cache! Yay!\n",
      "18\n",
      "Found in cache! Yay!\n",
      "19\n",
      "Found in cache! Yay!\n",
      "20\n",
      "Found in cache! Yay!\n",
      "21\n"
     ]
    }
   ],
   "source": [
    "store_many_tweets(limit=20)"
   ]
  },
  {
   "cell_type": "code",
   "execution_count": null,
   "metadata": {},
   "outputs": [],
   "source": [
    "#tweet_coll.delete_many({})"
   ]
  },
  {
   "cell_type": "code",
   "execution_count": 4,
   "metadata": {},
   "outputs": [
    {
     "data": {
      "text/plain": [
       "3143"
      ]
     },
     "execution_count": 4,
     "metadata": {},
     "output_type": "execute_result"
    }
   ],
   "source": [
    "tweet_coll.count_documents({})"
   ]
  },
  {
   "cell_type": "code",
   "execution_count": null,
   "metadata": {},
   "outputs": [],
   "source": [
    "# tweet_df = pd.DataFrame(list(tweet_coll.find({'created_at':\n",
    "#                                               {'$lt': datetime.datetime(2019,6,11,17,5, tzinfo=timezone.utc), \n",
    "#                                                #'$gt': datetime.datetime(2019,6,11,15,55, tzinfo=timezone.utc),\n",
    "#                                               }\n",
    "#                                              })\n",
    "#                             )\n",
    "#                        )"
   ]
  },
  {
   "cell_type": "code",
   "execution_count": null,
   "metadata": {},
   "outputs": [],
   "source": [
    "tweet_df = pd.DataFrame(list(tweet_coll.find()))"
   ]
  },
  {
   "cell_type": "code",
   "execution_count": null,
   "metadata": {},
   "outputs": [],
   "source": [
    "print(tweet_df['created_at'].min())\n",
    "print(tweet_df['created_at'].max())\n"
   ]
  },
  {
   "cell_type": "code",
   "execution_count": null,
   "metadata": {},
   "outputs": [],
   "source": [
    "tweet_df['text']"
   ]
  },
  {
   "cell_type": "code",
   "execution_count": null,
   "metadata": {},
   "outputs": [],
   "source": [
    "tweet_df.iloc[-1]['created_at']"
   ]
  },
  {
   "cell_type": "code",
   "execution_count": null,
   "metadata": {},
   "outputs": [],
   "source": [
    "tweet_df['timestamp'] = tweet_df['created_at'].apply(pd.Timestamp)\n",
    "tweet_df.head().T"
   ]
  },
  {
   "cell_type": "code",
   "execution_count": null,
   "metadata": {},
   "outputs": [],
   "source": []
  }
 ],
 "metadata": {
  "kernelspec": {
   "display_name": "Python 3",
   "language": "python",
   "name": "python3"
  },
  "language_info": {
   "codemirror_mode": {
    "name": "ipython",
    "version": 3
   },
   "file_extension": ".py",
   "mimetype": "text/x-python",
   "name": "python",
   "nbconvert_exporter": "python",
   "pygments_lexer": "ipython3",
   "version": "3.7.1"
  }
 },
 "nbformat": 4,
 "nbformat_minor": 2
}
