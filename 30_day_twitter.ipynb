{
 "cells": [
  {
   "cell_type": "markdown",
   "metadata": {},
   "source": [
    "# Autoreload 2"
   ]
  },
  {
   "cell_type": "code",
   "execution_count": 1,
   "metadata": {},
   "outputs": [],
   "source": [
    "%load_ext autoreload\n",
    "%autoreload 2"
   ]
  },
  {
   "cell_type": "markdown",
   "metadata": {},
   "source": [
    "# Import Relevant Libraries"
   ]
  },
  {
   "cell_type": "code",
   "execution_count": 2,
   "metadata": {},
   "outputs": [],
   "source": [
    "import pandas as pd\n",
    "import datetime\n",
    "from datetime import timezone\n",
    "import json\n",
    "import numpy as np\n",
    "from pandas.io.json import json_normalize\n",
    "import string\n",
    "import nltk\n",
    "from sklearn.feature_extraction.text import CountVectorizer\n",
    "import matplotlib.pyplot as plt\n",
    "from math import pi\n",
    "import time \n",
    "import pickle\n",
    "\n",
    "from nintendo.nintendo_functions_2 import (   #for api use\n",
    "    fetch_from_cache_or_api, \n",
    "    get_token, \n",
    "    get_tweets, \n",
    "    store_many_tweets, \n",
    "    store_response_tweets, \n",
    "    tweet_coll)\n",
    "\n",
    "from nintendo.trend_radar_functions import (   #for post cleaning\n",
    "    reset_index, \n",
    "    json_to_df, \n",
    "    combine_2_dfs,\n",
    "    add_time_to_df,\n",
    "    unique_seconds_list, \n",
    "    second_groupings, \n",
    "    seconds_dict, \n",
    "    unique_words_list,\n",
    "    vectorize_to_df,\n",
    "    words_df,\n",
    "    trend_line,\n",
    "    drop_time_from_df,\n",
    "    create_dictionary_for_specified_time,\n",
    "    top_5_dict_to_df,\n",
    "    radar_plot_creator,\n",
    "    completed_words_df,\n",
    "    trend_function,\n",
    "    radar_function,\n",
    "    )  \n",
    "\n",
    "from nintendo.data_cleaning import (  #for cleaning\n",
    "    create_timestamp_col,\n",
    "    add_time_from_created,\n",
    "    create_time_col_19,\n",
    "    select_relevant_cols, \n",
    "    select_relevant_cols_19,\n",
    "    filter_lang,\n",
    "    filter_lang_19,\n",
    "    drop_duplicates,\n",
    "    unique_hashtag_list,\n",
    "    unique_link_list,\n",
    "    unique_ats_list,\n",
    "    remove_hash_link_at,\n",
    "    strip_punctuation,\n",
    "    remove_punctuation,\n",
    "    make_lower_case,\n",
    "    get_wordnet_pos,\n",
    "    lemmatize_text,\n",
    "    remove_stop_words,\n",
    "    remove_just_hash,\n",
    "    vader_sentiment,\n",
    "   )"
   ]
  },
  {
   "cell_type": "markdown",
   "metadata": {},
   "source": [
    "# Pulls 100 Tweets at a Time (no repeats)"
   ]
  },
  {
   "cell_type": "code",
   "execution_count": 3,
   "metadata": {},
   "outputs": [],
   "source": [
    "#store_many_tweets(limit=20)"
   ]
  },
  {
   "cell_type": "markdown",
   "metadata": {},
   "source": [
    "# View Pulled Tweets in Mongo DB"
   ]
  },
  {
   "cell_type": "code",
   "execution_count": 4,
   "metadata": {},
   "outputs": [
    {
     "data": {
      "text/plain": [
       "10269"
      ]
     },
     "execution_count": 4,
     "metadata": {},
     "output_type": "execute_result"
    }
   ],
   "source": [
    "tweet_coll.count_documents({})"
   ]
  },
  {
   "cell_type": "markdown",
   "metadata": {},
   "source": [
    "'tweets' (below) is a json file"
   ]
  },
  {
   "cell_type": "code",
   "execution_count": 5,
   "metadata": {},
   "outputs": [],
   "source": [
    "tweets = list(tweet_coll.find())"
   ]
  },
  {
   "cell_type": "markdown",
   "metadata": {},
   "source": [
    "# Data Cleaning"
   ]
  },
  {
   "cell_type": "markdown",
   "metadata": {},
   "source": [
    "Flatten JSON File for embedded dictionaries and store as DF."
   ]
  },
  {
   "cell_type": "code",
   "execution_count": 6,
   "metadata": {},
   "outputs": [],
   "source": [
    "tweets_norm = json_to_df(tweets)"
   ]
  },
  {
   "cell_type": "markdown",
   "metadata": {},
   "source": [
    "Filter for English only (also uses only relevant columns)  \n",
    "Remove any duplicate rows."
   ]
  },
  {
   "cell_type": "code",
   "execution_count": 7,
   "metadata": {},
   "outputs": [],
   "source": [
    "df = filter_lang_19(tweets_norm)"
   ]
  },
  {
   "cell_type": "code",
   "execution_count": 8,
   "metadata": {},
   "outputs": [],
   "source": [
    "df = drop_duplicates(df)"
   ]
  },
  {
   "cell_type": "markdown",
   "metadata": {},
   "source": [
    "Add a .time. column showing H:M:S    "
   ]
  },
  {
   "cell_type": "code",
   "execution_count": 9,
   "metadata": {},
   "outputs": [],
   "source": [
    "#create_time_col_19(df) #works.. but creates a datetime.. we want str"
   ]
  },
  {
   "cell_type": "code",
   "execution_count": 12,
   "metadata": {},
   "outputs": [],
   "source": [
    "add_time_from_created(df)"
   ]
  },
  {
   "cell_type": "markdown",
   "metadata": {},
   "source": [
    "#### Explore the Data"
   ]
  },
  {
   "cell_type": "code",
   "execution_count": 14,
   "metadata": {},
   "outputs": [
    {
     "data": {
      "text/plain": [
       "10160"
      ]
     },
     "execution_count": 14,
     "metadata": {},
     "output_type": "execute_result"
    }
   ],
   "source": [
    "len(df)"
   ]
  },
  {
   "cell_type": "code",
   "execution_count": 15,
   "metadata": {},
   "outputs": [
    {
     "name": "stdout",
     "output_type": "stream",
     "text": [
      "<class 'pandas.core.frame.DataFrame'>\n",
      "Int64Index: 10160 entries, 0 to 10268\n",
      "Data columns (total 5 columns):\n",
      "user.id       10160 non-null int64\n",
      "text          10160 non-null object\n",
      "lang          10160 non-null object\n",
      "created_at    10160 non-null object\n",
      ".time.        10160 non-null object\n",
      "dtypes: int64(1), object(4)\n",
      "memory usage: 796.2+ KB\n"
     ]
    }
   ],
   "source": [
    "df.info()"
   ]
  },
  {
   "cell_type": "code",
   "execution_count": 16,
   "metadata": {},
   "outputs": [
    {
     "data": {
      "text/plain": [
       "user.id       0\n",
       "text          0\n",
       "lang          0\n",
       "created_at    0\n",
       ".time.        0\n",
       "dtype: int64"
      ]
     },
     "execution_count": 16,
     "metadata": {},
     "output_type": "execute_result"
    }
   ],
   "source": [
    "df.isna().sum()"
   ]
  },
  {
   "cell_type": "code",
   "execution_count": 17,
   "metadata": {},
   "outputs": [
    {
     "name": "stdout",
     "output_type": "stream",
     "text": [
      "16:07:00\n",
      "17:04:59\n"
     ]
    }
   ],
   "source": [
    "print(df['.time.'].min())\n",
    "print(df['.time.'].max())"
   ]
  },
  {
   "cell_type": "markdown",
   "metadata": {},
   "source": [
    "#### Text Cleaning"
   ]
  },
  {
   "cell_type": "markdown",
   "metadata": {},
   "source": [
    "Remove any words starting with: #, @, or http and put cleaned text into new 'text2' column."
   ]
  },
  {
   "cell_type": "code",
   "execution_count": 18,
   "metadata": {},
   "outputs": [],
   "source": [
    "remove_hash_link_at(df)"
   ]
  },
  {
   "cell_type": "markdown",
   "metadata": {},
   "source": [
    "Remove punctuation & stop words, make text all lower case, lemmatize all words."
   ]
  },
  {
   "cell_type": "code",
   "execution_count": 19,
   "metadata": {},
   "outputs": [],
   "source": [
    "remove_punctuation(df)"
   ]
  },
  {
   "cell_type": "code",
   "execution_count": 20,
   "metadata": {},
   "outputs": [],
   "source": [
    "make_lower_case(df)"
   ]
  },
  {
   "cell_type": "code",
   "execution_count": 21,
   "metadata": {},
   "outputs": [],
   "source": [
    "lemmatize_text(df)"
   ]
  },
  {
   "cell_type": "code",
   "execution_count": 22,
   "metadata": {},
   "outputs": [],
   "source": [
    "remove_stop_words(df)"
   ]
  },
  {
   "cell_type": "markdown",
   "metadata": {},
   "source": [
    "Remove http again (some links may have had symbol infront of it and not been removed the first time)"
   ]
  },
  {
   "cell_type": "code",
   "execution_count": 23,
   "metadata": {},
   "outputs": [],
   "source": [
    "remove_just_hash(df)"
   ]
  },
  {
   "cell_type": "code",
   "execution_count": 24,
   "metadata": {},
   "outputs": [],
   "source": [
    "df = reset_index(df)"
   ]
  },
  {
   "cell_type": "markdown",
   "metadata": {},
   "source": [
    "# End Data Cleaning"
   ]
  },
  {
   "cell_type": "code",
   "execution_count": null,
   "metadata": {},
   "outputs": [],
   "source": []
  },
  {
   "cell_type": "markdown",
   "metadata": {},
   "source": [
    "# Vader Sentiment"
   ]
  },
  {
   "cell_type": "code",
   "execution_count": 25,
   "metadata": {},
   "outputs": [],
   "source": [
    "vader_output = vader_sentiment(df)"
   ]
  },
  {
   "cell_type": "code",
   "execution_count": 26,
   "metadata": {},
   "outputs": [
    {
     "data": {
      "text/plain": [
       "[{'neg': 0.0, 'neu': 1.0, 'pos': 0.0, 'compound': 0.0},\n",
       " {'neg': 0.0, 'neu': 1.0, 'pos': 0.0, 'compound': 0.0},\n",
       " {'neg': 0.0, 'neu': 0.915, 'pos': 0.085, 'compound': 0.1027},\n",
       " {'neg': 0.0, 'neu': 1.0, 'pos': 0.0, 'compound': 0.0},\n",
       " {'neg': 0.0, 'neu': 0.915, 'pos': 0.085, 'compound': 0.1027},\n",
       " {'neg': 0.0, 'neu': 1.0, 'pos': 0.0, 'compound': 0.0}]"
      ]
     },
     "execution_count": 26,
     "metadata": {},
     "output_type": "execute_result"
    }
   ],
   "source": [
    "vader_output[0:6]"
   ]
  },
  {
   "cell_type": "markdown",
   "metadata": {},
   "source": [
    "# End Vader Sentiment"
   ]
  },
  {
   "cell_type": "code",
   "execution_count": null,
   "metadata": {},
   "outputs": [],
   "source": []
  },
  {
   "cell_type": "markdown",
   "metadata": {},
   "source": [
    "# Initial Setup for Graphs"
   ]
  },
  {
   "cell_type": "markdown",
   "metadata": {},
   "source": [
    "Combine vader sentiments into df"
   ]
  },
  {
   "cell_type": "code",
   "execution_count": 27,
   "metadata": {},
   "outputs": [],
   "source": [
    "df = combine_2_dfs(reset_index(df),json_to_df(vader_output))"
   ]
  },
  {
   "cell_type": "markdown",
   "metadata": {},
   "source": [
    "List of every unique second in the data"
   ]
  },
  {
   "cell_type": "code",
   "execution_count": 28,
   "metadata": {},
   "outputs": [],
   "source": [
    "df = df.sort_values(by='.time.')"
   ]
  },
  {
   "cell_type": "code",
   "execution_count": 29,
   "metadata": {},
   "outputs": [],
   "source": [
    "unique_sec_list = unique_seconds_list(df)"
   ]
  },
  {
   "cell_type": "markdown",
   "metadata": {},
   "source": [
    "Grouping by every 5 seconds for trend line"
   ]
  },
  {
   "cell_type": "code",
   "execution_count": 30,
   "metadata": {},
   "outputs": [],
   "source": [
    "df[str(5)+'_seconds'] = df['.time.'].map(seconds_dict(5, unique_sec_list))"
   ]
  },
  {
   "cell_type": "markdown",
   "metadata": {},
   "source": [
    "NOTE: Trend line does not include empty seconds"
   ]
  },
  {
   "cell_type": "code",
   "execution_count": 31,
   "metadata": {},
   "outputs": [
    {
     "data": {
      "image/png": "[encoded data removed]",
      "text/plain": [
       "<Figure size 432x288 with 1 Axes>"
      ]
     },
     "metadata": {
      "needs_background": "light"
     },
     "output_type": "display_data"
    }
   ],
   "source": [
    "trend_line(df, 5, 'sum')"
   ]
  },
  {
   "cell_type": "markdown",
   "metadata": {},
   "source": [
    "# LSM YOU ARE HERE - WORK ON GROUPS"
   ]
  },
  {
   "cell_type": "markdown",
   "metadata": {},
   "source": [
    "Luigi's Mansion = 07:25 through 10:45   \n",
    "Link's Awakening = 12:50 through 14:55   \n",
    "Cadence of Hyrule = 32:30 through 33:25   \n",
    "Breath of the Wild = 42:55 through 43:45   "
   ]
  },
  {
   "cell_type": "markdown",
   "metadata": {},
   "source": [
    "All relevant groupings for four 2019 games of interest:   \n",
    "CREATE DICTIONARY OF GROUP TO TIME"
   ]
  },
  {
   "cell_type": "code",
   "execution_count": 33,
   "metadata": {},
   "outputs": [
    {
     "data": {
      "text/plain": [
       "str"
      ]
     },
     "execution_count": 33,
     "metadata": {},
     "output_type": "execute_result"
    }
   ],
   "source": [
    "type(df['.time.'][0])"
   ]
  },
  {
   "cell_type": "code",
   "execution_count": 35,
   "metadata": {},
   "outputs": [
    {
     "data": {
      "text/html": [
       "<div>\n",
       "<style scoped>\n",
       "    .dataframe tbody tr th:only-of-type {\n",
       "        vertical-align: middle;\n",
       "    }\n",
       "\n",
       "    .dataframe tbody tr th {\n",
       "        vertical-align: top;\n",
       "    }\n",
       "\n",
       "    .dataframe thead th {\n",
       "        text-align: right;\n",
       "    }\n",
       "</style>\n",
       "<table border=\"1\" class=\"dataframe\">\n",
       "  <thead>\n",
       "    <tr style=\"text-align: right;\">\n",
       "      <th></th>\n",
       "      <th>level_0</th>\n",
       "      <th>index</th>\n",
       "      <th>user.id</th>\n",
       "      <th>text</th>\n",
       "      <th>lang</th>\n",
       "      <th>created_at</th>\n",
       "      <th>.time.</th>\n",
       "      <th>text2</th>\n",
       "      <th>compound</th>\n",
       "      <th>neg</th>\n",
       "      <th>neu</th>\n",
       "      <th>pos</th>\n",
       "      <th>5_seconds</th>\n",
       "    </tr>\n",
       "  </thead>\n",
       "  <tbody>\n",
       "    <tr>\n",
       "      <th>7403</th>\n",
       "      <td>7403</td>\n",
       "      <td>7493</td>\n",
       "      <td>2416539014</td>\n",
       "      <td>#NintendoE3 Are the Luigi's Mansion games any ...</td>\n",
       "      <td>en</td>\n",
       "      <td>Tue Jun 11 16:07:00 +0000 2019</td>\n",
       "      <td>16:07:00</td>\n",
       "      <td>luigis mansion game good</td>\n",
       "      <td>0.4404</td>\n",
       "      <td>0.000</td>\n",
       "      <td>0.707</td>\n",
       "      <td>0.293</td>\n",
       "      <td>1</td>\n",
       "    </tr>\n",
       "    <tr>\n",
       "      <th>7401</th>\n",
       "      <td>7401</td>\n",
       "      <td>7491</td>\n",
       "      <td>2681468120</td>\n",
       "      <td>LUIGI'S MANSION 3 HELLLLLL YEAHHHHHHHH\\n\\n#e3 ...</td>\n",
       "      <td>en</td>\n",
       "      <td>Tue Jun 11 16:07:00 +0000 2019</td>\n",
       "      <td>16:07:00</td>\n",
       "      <td>luigis mansion 3 hellllll yeahhhhhhhh</td>\n",
       "      <td>0.0000</td>\n",
       "      <td>0.000</td>\n",
       "      <td>1.000</td>\n",
       "      <td>0.000</td>\n",
       "      <td>1</td>\n",
       "    </tr>\n",
       "    <tr>\n",
       "      <th>7400</th>\n",
       "      <td>7400</td>\n",
       "      <td>7490</td>\n",
       "      <td>236546300</td>\n",
       "      <td>RT @Nibellion: Holy shit  #NintendoDirect http...</td>\n",
       "      <td>en</td>\n",
       "      <td>Tue Jun 11 16:07:00 +0000 2019</td>\n",
       "      <td>16:07:00</td>\n",
       "      <td>rt holy shit</td>\n",
       "      <td>-0.5574</td>\n",
       "      <td>0.419</td>\n",
       "      <td>0.581</td>\n",
       "      <td>0.000</td>\n",
       "      <td>1</td>\n",
       "    </tr>\n",
       "    <tr>\n",
       "      <th>7399</th>\n",
       "      <td>7399</td>\n",
       "      <td>7489</td>\n",
       "      <td>987143124974690304</td>\n",
       "      <td>RT @ZeldaUniverse: BOWSER MEETS BOWSER #Ninten...</td>\n",
       "      <td>en</td>\n",
       "      <td>Tue Jun 11 16:07:00 +0000 2019</td>\n",
       "      <td>16:07:00</td>\n",
       "      <td>rt bowser meet bowser</td>\n",
       "      <td>0.0000</td>\n",
       "      <td>0.000</td>\n",
       "      <td>1.000</td>\n",
       "      <td>0.000</td>\n",
       "      <td>1</td>\n",
       "    </tr>\n",
       "    <tr>\n",
       "      <th>7398</th>\n",
       "      <td>7398</td>\n",
       "      <td>7488</td>\n",
       "      <td>839162843324891138</td>\n",
       "      <td>Luigi's Mansion 3 up next. #NintendoDirect</td>\n",
       "      <td>en</td>\n",
       "      <td>Tue Jun 11 16:07:00 +0000 2019</td>\n",
       "      <td>16:07:00</td>\n",
       "      <td>luigis mansion 3 next</td>\n",
       "      <td>0.0000</td>\n",
       "      <td>0.000</td>\n",
       "      <td>1.000</td>\n",
       "      <td>0.000</td>\n",
       "      <td>1</td>\n",
       "    </tr>\n",
       "    <tr>\n",
       "      <th>7397</th>\n",
       "      <td>7397</td>\n",
       "      <td>7487</td>\n",
       "      <td>40618694</td>\n",
       "      <td>Dragon Quest!! I love this. My heart. #Nintend...</td>\n",
       "      <td>en</td>\n",
       "      <td>Tue Jun 11 16:07:00 +0000 2019</td>\n",
       "      <td>16:07:00</td>\n",
       "      <td>dragon quest love heart</td>\n",
       "      <td>0.6988</td>\n",
       "      <td>0.000</td>\n",
       "      <td>0.626</td>\n",
       "      <td>0.374</td>\n",
       "      <td>1</td>\n",
       "    </tr>\n",
       "    <tr>\n",
       "      <th>7396</th>\n",
       "      <td>7396</td>\n",
       "      <td>7486</td>\n",
       "      <td>814210764944928773</td>\n",
       "      <td>RT @KittyCouch: GIVE ME ANIMAL CROSSING! OR GI...</td>\n",
       "      <td>en</td>\n",
       "      <td>Tue Jun 11 16:07:00 +0000 2019</td>\n",
       "      <td>16:07:00</td>\n",
       "      <td>rt give animal cross give death</td>\n",
       "      <td>-0.7586</td>\n",
       "      <td>0.315</td>\n",
       "      <td>0.685</td>\n",
       "      <td>0.000</td>\n",
       "      <td>1</td>\n",
       "    </tr>\n",
       "    <tr>\n",
       "      <th>7395</th>\n",
       "      <td>7395</td>\n",
       "      <td>7485</td>\n",
       "      <td>261968159</td>\n",
       "      <td>#LuigisMansion3 let's go #NintendoDirect #E320...</td>\n",
       "      <td>en</td>\n",
       "      <td>Tue Jun 11 16:07:00 +0000 2019</td>\n",
       "      <td>16:07:00</td>\n",
       "      <td>let go</td>\n",
       "      <td>0.0000</td>\n",
       "      <td>0.000</td>\n",
       "      <td>1.000</td>\n",
       "      <td>0.000</td>\n",
       "      <td>1</td>\n",
       "    </tr>\n",
       "    <tr>\n",
       "      <th>7394</th>\n",
       "      <td>7394</td>\n",
       "      <td>7484</td>\n",
       "      <td>4825523593</td>\n",
       "      <td>RT @Nibellion: Bowser runs Nintendo now #Ninte...</td>\n",
       "      <td>en</td>\n",
       "      <td>Tue Jun 11 16:07:00 +0000 2019</td>\n",
       "      <td>16:07:00</td>\n",
       "      <td>rt bowser run nintendo</td>\n",
       "      <td>0.0000</td>\n",
       "      <td>0.000</td>\n",
       "      <td>1.000</td>\n",
       "      <td>0.000</td>\n",
       "      <td>1</td>\n",
       "    </tr>\n",
       "    <tr>\n",
       "      <th>7393</th>\n",
       "      <td>7393</td>\n",
       "      <td>7483</td>\n",
       "      <td>62211706</td>\n",
       "      <td>RT @LiKovacs: Time for Luigi's Mansion 3\\n\\n#N...</td>\n",
       "      <td>en</td>\n",
       "      <td>Tue Jun 11 16:07:00 +0000 2019</td>\n",
       "      <td>16:07:00</td>\n",
       "      <td>rt time luigis mansion 3</td>\n",
       "      <td>0.0000</td>\n",
       "      <td>0.000</td>\n",
       "      <td>1.000</td>\n",
       "      <td>0.000</td>\n",
       "      <td>1</td>\n",
       "    </tr>\n",
       "    <tr>\n",
       "      <th>7392</th>\n",
       "      <td>7392</td>\n",
       "      <td>7482</td>\n",
       "      <td>14742782</td>\n",
       "      <td>Give me Animal Crossing on the Switch or give ...</td>\n",
       "      <td>en</td>\n",
       "      <td>Tue Jun 11 16:07:00 +0000 2019</td>\n",
       "      <td>16:07:00</td>\n",
       "      <td>give animal cross switch give death</td>\n",
       "      <td>-0.5994</td>\n",
       "      <td>0.262</td>\n",
       "      <td>0.738</td>\n",
       "      <td>0.000</td>\n",
       "      <td>1</td>\n",
       "    </tr>\n",
       "    <tr>\n",
       "      <th>7391</th>\n",
       "      <td>7391</td>\n",
       "      <td>7481</td>\n",
       "      <td>20604483</td>\n",
       "      <td>I’m into DQ Hero as a character for smash. SO ...</td>\n",
       "      <td>en</td>\n",
       "      <td>Tue Jun 11 16:07:00 +0000 2019</td>\n",
       "      <td>16:07:00</td>\n",
       "      <td>’ dq hero character smash actually</td>\n",
       "      <td>0.5574</td>\n",
       "      <td>0.000</td>\n",
       "      <td>0.783</td>\n",
       "      <td>0.217</td>\n",
       "      <td>1</td>\n",
       "    </tr>\n",
       "    <tr>\n",
       "      <th>7402</th>\n",
       "      <td>7402</td>\n",
       "      <td>7492</td>\n",
       "      <td>2894287600</td>\n",
       "      <td>RT @Nibellion: Bowser runs Nintendo now #Ninte...</td>\n",
       "      <td>en</td>\n",
       "      <td>Tue Jun 11 16:07:00 +0000 2019</td>\n",
       "      <td>16:07:00</td>\n",
       "      <td>rt bowser run nintendo</td>\n",
       "      <td>0.0000</td>\n",
       "      <td>0.000</td>\n",
       "      <td>1.000</td>\n",
       "      <td>0.000</td>\n",
       "      <td>1</td>\n",
       "    </tr>\n",
       "  </tbody>\n",
       "</table>\n",
       "</div>"
      ],
      "text/plain": [
       "      level_0  index             user.id  \\\n",
       "7403     7403   7493          2416539014   \n",
       "7401     7401   7491          2681468120   \n",
       "7400     7400   7490           236546300   \n",
       "7399     7399   7489  987143124974690304   \n",
       "7398     7398   7488  839162843324891138   \n",
       "7397     7397   7487            40618694   \n",
       "7396     7396   7486  814210764944928773   \n",
       "7395     7395   7485           261968159   \n",
       "7394     7394   7484          4825523593   \n",
       "7393     7393   7483            62211706   \n",
       "7392     7392   7482            14742782   \n",
       "7391     7391   7481            20604483   \n",
       "7402     7402   7492          2894287600   \n",
       "\n",
       "                                                   text lang  \\\n",
       "7403  #NintendoE3 Are the Luigi's Mansion games any ...   en   \n",
       "7401  LUIGI'S MANSION 3 HELLLLLL YEAHHHHHHHH\\n\\n#e3 ...   en   \n",
       "7400  RT @Nibellion: Holy shit  #NintendoDirect http...   en   \n",
       "7399  RT @ZeldaUniverse: BOWSER MEETS BOWSER #Ninten...   en   \n",
       "7398         Luigi's Mansion 3 up next. #NintendoDirect   en   \n",
       "7397  Dragon Quest!! I love this. My heart. #Nintend...   en   \n",
       "7396  RT @KittyCouch: GIVE ME ANIMAL CROSSING! OR GI...   en   \n",
       "7395  #LuigisMansion3 let's go #NintendoDirect #E320...   en   \n",
       "7394  RT @Nibellion: Bowser runs Nintendo now #Ninte...   en   \n",
       "7393  RT @LiKovacs: Time for Luigi's Mansion 3\\n\\n#N...   en   \n",
       "7392  Give me Animal Crossing on the Switch or give ...   en   \n",
       "7391  I’m into DQ Hero as a character for smash. SO ...   en   \n",
       "7402  RT @Nibellion: Bowser runs Nintendo now #Ninte...   en   \n",
       "\n",
       "                          created_at    .time.  \\\n",
       "7403  Tue Jun 11 16:07:00 +0000 2019  16:07:00   \n",
       "7401  Tue Jun 11 16:07:00 +0000 2019  16:07:00   \n",
       "7400  Tue Jun 11 16:07:00 +0000 2019  16:07:00   \n",
       "7399  Tue Jun 11 16:07:00 +0000 2019  16:07:00   \n",
       "7398  Tue Jun 11 16:07:00 +0000 2019  16:07:00   \n",
       "7397  Tue Jun 11 16:07:00 +0000 2019  16:07:00   \n",
       "7396  Tue Jun 11 16:07:00 +0000 2019  16:07:00   \n",
       "7395  Tue Jun 11 16:07:00 +0000 2019  16:07:00   \n",
       "7394  Tue Jun 11 16:07:00 +0000 2019  16:07:00   \n",
       "7393  Tue Jun 11 16:07:00 +0000 2019  16:07:00   \n",
       "7392  Tue Jun 11 16:07:00 +0000 2019  16:07:00   \n",
       "7391  Tue Jun 11 16:07:00 +0000 2019  16:07:00   \n",
       "7402  Tue Jun 11 16:07:00 +0000 2019  16:07:00   \n",
       "\n",
       "                                      text2  compound    neg    neu    pos  \\\n",
       "7403               luigis mansion game good    0.4404  0.000  0.707  0.293   \n",
       "7401  luigis mansion 3 hellllll yeahhhhhhhh    0.0000  0.000  1.000  0.000   \n",
       "7400                           rt holy shit   -0.5574  0.419  0.581  0.000   \n",
       "7399                  rt bowser meet bowser    0.0000  0.000  1.000  0.000   \n",
       "7398                  luigis mansion 3 next    0.0000  0.000  1.000  0.000   \n",
       "7397                dragon quest love heart    0.6988  0.000  0.626  0.374   \n",
       "7396        rt give animal cross give death   -0.7586  0.315  0.685  0.000   \n",
       "7395                                 let go    0.0000  0.000  1.000  0.000   \n",
       "7394                 rt bowser run nintendo    0.0000  0.000  1.000  0.000   \n",
       "7393               rt time luigis mansion 3    0.0000  0.000  1.000  0.000   \n",
       "7392    give animal cross switch give death   -0.5994  0.262  0.738  0.000   \n",
       "7391     ’ dq hero character smash actually    0.5574  0.000  0.783  0.217   \n",
       "7402                 rt bowser run nintendo    0.0000  0.000  1.000  0.000   \n",
       "\n",
       "      5_seconds  \n",
       "7403          1  \n",
       "7401          1  \n",
       "7400          1  \n",
       "7399          1  \n",
       "7398          1  \n",
       "7397          1  \n",
       "7396          1  \n",
       "7395          1  \n",
       "7394          1  \n",
       "7393          1  \n",
       "7392          1  \n",
       "7391          1  \n",
       "7402          1  "
      ]
     },
     "execution_count": 35,
     "metadata": {},
     "output_type": "execute_result"
    }
   ],
   "source": [
    "df.loc[df['.time.'] == '16:07:00']"
   ]
  },
  {
   "cell_type": "code",
   "execution_count": null,
   "metadata": {},
   "outputs": [],
   "source": [
    "#df.loc[df['time'] == '16:07:00']"
   ]
  },
  {
   "cell_type": "code",
   "execution_count": null,
   "metadata": {},
   "outputs": [],
   "source": []
  },
  {
   "cell_type": "code",
   "execution_count": null,
   "metadata": {},
   "outputs": [],
   "source": []
  },
  {
   "cell_type": "code",
   "execution_count": null,
   "metadata": {},
   "outputs": [],
   "source": []
  },
  {
   "cell_type": "code",
   "execution_count": null,
   "metadata": {},
   "outputs": [],
   "source": []
  },
  {
   "cell_type": "code",
   "execution_count": null,
   "metadata": {},
   "outputs": [],
   "source": []
  },
  {
   "cell_type": "code",
   "execution_count": null,
   "metadata": {},
   "outputs": [],
   "source": []
  },
  {
   "cell_type": "markdown",
   "metadata": {},
   "source": [
    "# Experimental"
   ]
  },
  {
   "cell_type": "code",
   "execution_count": null,
   "metadata": {},
   "outputs": [],
   "source": [
    "tweet_df = pd.DataFrame(tweets)"
   ]
  },
  {
   "cell_type": "code",
   "execution_count": null,
   "metadata": {},
   "outputs": [],
   "source": [
    "print(tweet_df['created_at'].min())\n",
    "print(tweet_df['created_at'].max())\n"
   ]
  },
  {
   "cell_type": "code",
   "execution_count": null,
   "metadata": {},
   "outputs": [],
   "source": [
    "tweet_df['text']"
   ]
  },
  {
   "cell_type": "code",
   "execution_count": null,
   "metadata": {},
   "outputs": [],
   "source": [
    "tweet_df.iloc[-1]['created_at']"
   ]
  },
  {
   "cell_type": "code",
   "execution_count": null,
   "metadata": {},
   "outputs": [],
   "source": [
    "tweet_df['timestamp'] = tweet_df['created_at'].apply(pd.Timestamp)"
   ]
  },
  {
   "cell_type": "code",
   "execution_count": null,
   "metadata": {},
   "outputs": [],
   "source": [
    "tweet_df.loc[tweet_df['timestamp'] == 'Tue Jun 11 16:33:25 +0000 2019']"
   ]
  },
  {
   "cell_type": "code",
   "execution_count": null,
   "metadata": {},
   "outputs": [],
   "source": []
  },
  {
   "cell_type": "code",
   "execution_count": null,
   "metadata": {},
   "outputs": [],
   "source": []
  }
 ],
 "metadata": {
  "kernelspec": {
   "display_name": "Python 3",
   "language": "python",
   "name": "python3"
  },
  "language_info": {
   "codemirror_mode": {
    "name": "ipython",
    "version": 3
   },
   "file_extension": ".py",
   "mimetype": "text/x-python",
   "name": "python",
   "nbconvert_exporter": "python",
   "pygments_lexer": "ipython3",
   "version": "3.7.1"
  }
 },
 "nbformat": 4,
 "nbformat_minor": 2
}
