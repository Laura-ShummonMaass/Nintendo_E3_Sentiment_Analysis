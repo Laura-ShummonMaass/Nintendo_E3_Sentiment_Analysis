{
 "cells": [
  {
   "cell_type": "markdown",
   "metadata": {},
   "source": [
    "TIME OF CONFERENCE:   \n",
    "June 11 at 9 a.m. PT/12 p.m. ET"
   ]
  },
  {
   "cell_type": "markdown",
   "metadata": {},
   "source": [
    "# Autoreload 2"
   ]
  },
  {
   "cell_type": "code",
   "execution_count": 1,
   "metadata": {},
   "outputs": [],
   "source": [
    "%load_ext autoreload\n",
    "%autoreload 2"
   ]
  },
  {
   "cell_type": "markdown",
   "metadata": {},
   "source": [
    "# Import Relevant Libraries"
   ]
  },
  {
   "cell_type": "code",
   "execution_count": 28,
   "metadata": {},
   "outputs": [],
   "source": [
    "import pandas as pd\n",
    "import datetime\n",
    "from datetime import timezone\n",
    "import json\n",
    "import numpy as np\n",
    "from pandas.io.json import json_normalize\n",
    "import string\n",
    "import nltk\n",
    "from sklearn.feature_extraction.text import CountVectorizer\n",
    "import matplotlib.pyplot as plt\n",
    "from math import pi\n",
    "import time \n",
    "import pickle\n",
    "\n",
    "from nintendo.nintendo_functions_2 import (\n",
    "    fetch_from_cache_or_api, \n",
    "    get_token, \n",
    "    get_tweets, \n",
    "    store_many_tweets, \n",
    "    store_response_tweets, \n",
    "    tweet_coll)\n",
    "\n",
    "from nintendo.trend_radar_functions import (\n",
    "    reset_index, \n",
    "    json_to_df, \n",
    "    combine_2_dfs,\n",
    "    add_time_to_df,\n",
    "    unique_seconds_list, \n",
    "    second_groupings, \n",
    "    seconds_dict, \n",
    "    unique_words_list,\n",
    "    vectorize_to_df,\n",
    "    words_df,\n",
    "    trend_line,\n",
    "    drop_time_from_df,\n",
    "    create_dictionary_for_specified_time,\n",
    "    top_5_dict_to_df,\n",
    "    radar_plot_creator,\n",
    "    completed_words_df,\n",
    "    trend_function,\n",
    "    radar_function,\n",
    "    )  "
   ]
  },
  {
   "cell_type": "markdown",
   "metadata": {},
   "source": [
    "# Pulls 100 Tweets at a Time (no repeats)"
   ]
  },
  {
   "cell_type": "code",
   "execution_count": 26,
   "metadata": {},
   "outputs": [],
   "source": [
    "#store_many_tweets(limit=20)"
   ]
  },
  {
   "cell_type": "markdown",
   "metadata": {},
   "source": [
    "# View Pulled Tweets in Mongo DB"
   ]
  },
  {
   "cell_type": "code",
   "execution_count": null,
   "metadata": {},
   "outputs": [],
   "source": [
    "# DO NOT RUN EVER\n",
    "#######tweet_coll.delete_many({})"
   ]
  },
  {
   "cell_type": "code",
   "execution_count": 29,
   "metadata": {},
   "outputs": [
    {
     "data": {
      "text/plain": [
       "10269"
      ]
     },
     "execution_count": 29,
     "metadata": {},
     "output_type": "execute_result"
    }
   ],
   "source": [
    "tweet_coll.count_documents({})"
   ]
  },
  {
   "cell_type": "markdown",
   "metadata": {},
   "source": [
    "### Assign tweet json dicts to variable \"tweets\""
   ]
  },
  {
   "cell_type": "code",
   "execution_count": 30,
   "metadata": {},
   "outputs": [],
   "source": [
    "tweets = list(tweet_coll.find())"
   ]
  },
  {
   "cell_type": "markdown",
   "metadata": {},
   "source": [
    "WORK ON AUTOMATING WITH FUNCTIONS... AFTER WEBSITE"
   ]
  },
  {
   "cell_type": "code",
   "execution_count": null,
   "metadata": {},
   "outputs": [],
   "source": []
  },
  {
   "cell_type": "code",
   "execution_count": null,
   "metadata": {},
   "outputs": [],
   "source": []
  },
  {
   "cell_type": "code",
   "execution_count": null,
   "metadata": {},
   "outputs": [],
   "source": []
  },
  {
   "cell_type": "code",
   "execution_count": null,
   "metadata": {},
   "outputs": [],
   "source": []
  },
  {
   "cell_type": "code",
   "execution_count": null,
   "metadata": {},
   "outputs": [],
   "source": []
  },
  {
   "cell_type": "code",
   "execution_count": null,
   "metadata": {},
   "outputs": [],
   "source": []
  },
  {
   "cell_type": "code",
   "execution_count": null,
   "metadata": {},
   "outputs": [],
   "source": []
  },
  {
   "cell_type": "code",
   "execution_count": null,
   "metadata": {},
   "outputs": [],
   "source": []
  },
  {
   "cell_type": "markdown",
   "metadata": {},
   "source": [
    "# Experimental"
   ]
  },
  {
   "cell_type": "code",
   "execution_count": 7,
   "metadata": {},
   "outputs": [],
   "source": [
    "tweet_df = pd.DataFrame(tweets)"
   ]
  },
  {
   "cell_type": "code",
   "execution_count": 8,
   "metadata": {},
   "outputs": [
    {
     "name": "stdout",
     "output_type": "stream",
     "text": [
      "Tue Jun 11 16:07:00 +0000 2019\n",
      "Wed Jun 12 17:04:58 +0000 2019\n"
     ]
    }
   ],
   "source": [
    "print(tweet_df['created_at'].min())\n",
    "print(tweet_df['created_at'].max())\n"
   ]
  },
  {
   "cell_type": "code",
   "execution_count": 9,
   "metadata": {},
   "outputs": [
    {
     "data": {
      "text/plain": [
       "0        RT @sandraghart: Needed to do this because she...\n",
       "1        RT @NVIDIAGeForce: We're kicking off E3 Show D...\n",
       "2        RT @MrGenzoman: #Nessa sketch/color warmup fro...\n",
       "3        RT @sandraghart: Needed to do this because she...\n",
       "4        RT @MrGenzoman: #Nessa sketch/color warmup fro...\n",
       "5        RT @sandraghart: Needed to do this because she...\n",
       "6        RT @hiraharas: same energy #e3 #NintendoDirect...\n",
       "7        RT @hiraharas: same energy #e3 #NintendoDirect...\n",
       "8        RT @MrGenzoman: #Nessa sketch/color warmup fro...\n",
       "9        RT @sandraghart: Needed to do this because she...\n",
       "10       RT @Inknettl: Thank you #NintendoDirect https:...\n",
       "11       RT @hntrluc: Zelda is looking so cute with her...\n",
       "12       RT @Inknettl: Thank you #NintendoDirect https:...\n",
       "13       RT @hntrluc: Zelda is looking so cute with her...\n",
       "14       RT @hiraharas: same energy #e3 #NintendoDirect...\n",
       "15       RT @MrGenzoman: #Nessa sketch/color warmup fro...\n",
       "16       RT @hiraharas: same energy #e3 #NintendoDirect...\n",
       "17       RT @hiraharas: same energy #e3 #NintendoDirect...\n",
       "18       RT @hiraharas: same energy #e3 #NintendoDirect...\n",
       "19       RT @hiraharas: same energy #e3 #NintendoDirect...\n",
       "20       RT @sandraghart: Needed to do this because she...\n",
       "21       RT @FinniChang: short haired queen I can't con...\n",
       "22       RT @MrGenzoman: #Nessa sketch/color warmup fro...\n",
       "23       RT @Inknettl: Thank you #NintendoDirect https:...\n",
       "24       RT @hiraharas: same energy #e3 #NintendoDirect...\n",
       "25       RT @stephringo: I love the new zelda haircut! ...\n",
       "26       RT @sandraghart: Needed to do this because she...\n",
       "27       RT @Inknettl: Thank you #NintendoDirect https:...\n",
       "28       RT @hiraharas: same energy #e3 #NintendoDirect...\n",
       "29       RT @hiraharas: same energy #e3 #NintendoDirect...\n",
       "                               ...                        \n",
       "10239    i stan #E32019 #NintendoDirect #PokemonSwordSh...\n",
       "10240    Game comes July 19th, with DLC soon #NintendoD...\n",
       "10241    RT @GameSpot: Check out The Witcher 3 Wild Hun...\n",
       "10242    RT @Nibellion: Empire Of Sin #NintendoDirect h...\n",
       "10243    I love these Marvel Ultimate Alliance games. B...\n",
       "10244    This honestly looks like a better Avengers gam...\n",
       "10245    RT @pkjd8I8: Astral Chain E3 trailer; coming A...\n",
       "10246    RT @Nibellion: Resident Evil 5 and 6 coming to...\n",
       "10247    RT @AllieRX: New Marvel: Ultimate Alliance 3 t...\n",
       "10248    Ultimate Alliance 3! I'm going to play this as...\n",
       "10249    I have no interest in the Marvel game. This on...\n",
       "10250    And here's Cadence of Hyrule.\\n#NintendoDirect...\n",
       "10251    RT @NintendoEurope: Work together with the Leg...\n",
       "10252    RT @Nibellion: Astral Chain launching August 3...\n",
       "10253    I'm disappointed in the lack of Peter Porker i...\n",
       "10254    RT @joeynoelle: I love Wooloo more than life i...\n",
       "10255    RT @Nibellion: No More Heroes 3, 2020 #Nintend...\n",
       "10256    RT @Polygon: Contra: Anniversary Collection ou...\n",
       "10257     Cadence of Hyrule time!!! GIMME! #NintendoDirect\n",
       "10258    RT @JVCom: No More Heroes 3 annoncé sur Switch...\n",
       "10259    Just going to say, Ultimate Alliance looks WAY...\n",
       "10260         OOOOOOOH IM EXCITED FOR THIS #NintendoDirect\n",
       "10261    RT @Nibellion: WITCHER 3 #NintendoDirect https...\n",
       "10262    RT @NintendoUK: Many mysteries await on Koholi...\n",
       "10263    Cadence of Hyrule time.... shadow drop? #Ninte...\n",
       "10264    RT @Nibellion: Empire Of Sin #NintendoDirect h...\n",
       "10265    RT @Nibellion: Astral Chain #NintendoDirect ht...\n",
       "10266    Back off, MCU stans , a REAL Marvel game is co...\n",
       "10267    RT @Nibellion: Astral Chain launching August 3...\n",
       "10268    Definitely a lot coming up for the #NintendoSw...\n",
       "Name: text, Length: 10269, dtype: object"
      ]
     },
     "execution_count": 9,
     "metadata": {},
     "output_type": "execute_result"
    }
   ],
   "source": [
    "tweet_df['text']"
   ]
  },
  {
   "cell_type": "code",
   "execution_count": 10,
   "metadata": {},
   "outputs": [
    {
     "data": {
      "text/plain": [
       "'Tue Jun 11 16:32:00 +0000 2019'"
      ]
     },
     "execution_count": 10,
     "metadata": {},
     "output_type": "execute_result"
    }
   ],
   "source": [
    "tweet_df.iloc[-1]['created_at']"
   ]
  },
  {
   "cell_type": "code",
   "execution_count": 11,
   "metadata": {},
   "outputs": [],
   "source": [
    "tweet_df['timestamp'] = tweet_df['created_at'].apply(pd.Timestamp)"
   ]
  },
  {
   "cell_type": "code",
   "execution_count": 24,
   "metadata": {},
   "outputs": [
    {
     "data": {
      "text/html": [
       "<div>\n",
       "<style scoped>\n",
       "    .dataframe tbody tr th:only-of-type {\n",
       "        vertical-align: middle;\n",
       "    }\n",
       "\n",
       "    .dataframe tbody tr th {\n",
       "        vertical-align: top;\n",
       "    }\n",
       "\n",
       "    .dataframe thead th {\n",
       "        text-align: right;\n",
       "    }\n",
       "</style>\n",
       "<table border=\"1\" class=\"dataframe\">\n",
       "  <thead>\n",
       "    <tr style=\"text-align: right;\">\n",
       "      <th></th>\n",
       "      <th>_id</th>\n",
       "      <th>contributors</th>\n",
       "      <th>coordinates</th>\n",
       "      <th>created_at</th>\n",
       "      <th>display_text_range</th>\n",
       "      <th>entities</th>\n",
       "      <th>extended_entities</th>\n",
       "      <th>extended_tweet</th>\n",
       "      <th>favorite_count</th>\n",
       "      <th>favorited</th>\n",
       "      <th>...</th>\n",
       "      <th>quoted_status_permalink</th>\n",
       "      <th>reply_count</th>\n",
       "      <th>retweet_count</th>\n",
       "      <th>retweeted</th>\n",
       "      <th>retweeted_status</th>\n",
       "      <th>source</th>\n",
       "      <th>text</th>\n",
       "      <th>truncated</th>\n",
       "      <th>user</th>\n",
       "      <th>timestamp</th>\n",
       "    </tr>\n",
       "  </thead>\n",
       "  <tbody>\n",
       "    <tr>\n",
       "      <th>9599</th>\n",
       "      <td>5d20eeaa6055bb11b1b217b5</td>\n",
       "      <td>None</td>\n",
       "      <td>None</td>\n",
       "      <td>Tue Jun 11 16:33:25 +0000 2019</td>\n",
       "      <td>NaN</td>\n",
       "      <td>{'hashtags': [{'text': 'e32019', 'indices': [7...</td>\n",
       "      <td>NaN</td>\n",
       "      <td>NaN</td>\n",
       "      <td>0</td>\n",
       "      <td>False</td>\n",
       "      <td>...</td>\n",
       "      <td>NaN</td>\n",
       "      <td>0</td>\n",
       "      <td>0</td>\n",
       "      <td>False</td>\n",
       "      <td>NaN</td>\n",
       "      <td>&lt;a href=\"https://about.twitter.com/products/tw...</td>\n",
       "      <td>I'm more hyped for Marvel Ultimate Alliance th...</td>\n",
       "      <td>False</td>\n",
       "      <td>{'id': 22874597, 'id_str': '22874597', 'name':...</td>\n",
       "      <td>2019-06-11 16:33:25+00:00</td>\n",
       "    </tr>\n",
       "    <tr>\n",
       "      <th>9600</th>\n",
       "      <td>5d20eeaa6055bb11b1b217b6</td>\n",
       "      <td>None</td>\n",
       "      <td>None</td>\n",
       "      <td>Tue Jun 11 16:33:25 +0000 2019</td>\n",
       "      <td>NaN</td>\n",
       "      <td>{'hashtags': [{'text': 'NintendoDirect', 'indi...</td>\n",
       "      <td>NaN</td>\n",
       "      <td>NaN</td>\n",
       "      <td>0</td>\n",
       "      <td>False</td>\n",
       "      <td>...</td>\n",
       "      <td>NaN</td>\n",
       "      <td>0</td>\n",
       "      <td>0</td>\n",
       "      <td>False</td>\n",
       "      <td>NaN</td>\n",
       "      <td>&lt;a href=\"http://twitter.com/download/android\" ...</td>\n",
       "      <td>Eggman gettin it XD #NintendoDirect</td>\n",
       "      <td>False</td>\n",
       "      <td>{'id': 255566561, 'id_str': '255566561', 'name...</td>\n",
       "      <td>2019-06-11 16:33:25+00:00</td>\n",
       "    </tr>\n",
       "    <tr>\n",
       "      <th>9601</th>\n",
       "      <td>5d20eeaa6055bb11b1b217b7</td>\n",
       "      <td>None</td>\n",
       "      <td>None</td>\n",
       "      <td>Tue Jun 11 16:33:25 +0000 2019</td>\n",
       "      <td>[0, 92]</td>\n",
       "      <td>{'hashtags': [{'text': 'Cadenceofhyrule', 'ind...</td>\n",
       "      <td>{'media': [{'id': 1138484385215320065, 'id_str...</td>\n",
       "      <td>NaN</td>\n",
       "      <td>0</td>\n",
       "      <td>False</td>\n",
       "      <td>...</td>\n",
       "      <td>NaN</td>\n",
       "      <td>0</td>\n",
       "      <td>0</td>\n",
       "      <td>False</td>\n",
       "      <td>NaN</td>\n",
       "      <td>&lt;a href=\"http://twitter.com\" rel=\"nofollow\"&gt;Tw...</td>\n",
       "      <td>#Cadenceofhyrule in Two days! That's all I nee...</td>\n",
       "      <td>False</td>\n",
       "      <td>{'id': 1855266734, 'id_str': '1855266734', 'na...</td>\n",
       "      <td>2019-06-11 16:33:25+00:00</td>\n",
       "    </tr>\n",
       "    <tr>\n",
       "      <th>9602</th>\n",
       "      <td>5d20eeaa6055bb11b1b217b8</td>\n",
       "      <td>None</td>\n",
       "      <td>None</td>\n",
       "      <td>Tue Jun 11 16:33:25 +0000 2019</td>\n",
       "      <td>NaN</td>\n",
       "      <td>{'hashtags': [{'text': 'NintendoDirect', 'indi...</td>\n",
       "      <td>{'media': [{'id': 1138484087142965248, 'id_str...</td>\n",
       "      <td>NaN</td>\n",
       "      <td>0</td>\n",
       "      <td>False</td>\n",
       "      <td>...</td>\n",
       "      <td>NaN</td>\n",
       "      <td>0</td>\n",
       "      <td>0</td>\n",
       "      <td>False</td>\n",
       "      <td>{'created_at': 'Tue Jun 11 16:32:35 +0000 2019...</td>\n",
       "      <td>&lt;a href=\"http://twitter.com/download/iphone\" r...</td>\n",
       "      <td>RT @Nibellion: Cadence Of Hyrule dropping June...</td>\n",
       "      <td>False</td>\n",
       "      <td>{'id': 392139718, 'id_str': '392139718', 'name...</td>\n",
       "      <td>2019-06-11 16:33:25+00:00</td>\n",
       "    </tr>\n",
       "    <tr>\n",
       "      <th>9603</th>\n",
       "      <td>5d20eeaa6055bb11b1b217b9</td>\n",
       "      <td>None</td>\n",
       "      <td>None</td>\n",
       "      <td>Tue Jun 11 16:33:25 +0000 2019</td>\n",
       "      <td>NaN</td>\n",
       "      <td>{'hashtags': [{'text': 'Marvel', 'indices': [0...</td>\n",
       "      <td>NaN</td>\n",
       "      <td>NaN</td>\n",
       "      <td>0</td>\n",
       "      <td>False</td>\n",
       "      <td>...</td>\n",
       "      <td>NaN</td>\n",
       "      <td>0</td>\n",
       "      <td>0</td>\n",
       "      <td>False</td>\n",
       "      <td>NaN</td>\n",
       "      <td>&lt;a href=\"http://twitter.com/download/iphone\" r...</td>\n",
       "      <td>#Marvel on #Switch looks really good, not gonn...</td>\n",
       "      <td>False</td>\n",
       "      <td>{'id': 1129111809003270144, 'id_str': '1129111...</td>\n",
       "      <td>2019-06-11 16:33:25+00:00</td>\n",
       "    </tr>\n",
       "    <tr>\n",
       "      <th>9604</th>\n",
       "      <td>5d20eeab6055bb11b1b217ba</td>\n",
       "      <td>None</td>\n",
       "      <td>None</td>\n",
       "      <td>Tue Jun 11 16:33:25 +0000 2019</td>\n",
       "      <td>NaN</td>\n",
       "      <td>{'hashtags': [{'text': 'NintendoE3', 'indices'...</td>\n",
       "      <td>NaN</td>\n",
       "      <td>NaN</td>\n",
       "      <td>0</td>\n",
       "      <td>False</td>\n",
       "      <td>...</td>\n",
       "      <td>NaN</td>\n",
       "      <td>0</td>\n",
       "      <td>0</td>\n",
       "      <td>False</td>\n",
       "      <td>NaN</td>\n",
       "      <td>&lt;a href=\"https://about.twitter.com/products/tw...</td>\n",
       "      <td>Mario and Sonic getting another Olympics game....</td>\n",
       "      <td>False</td>\n",
       "      <td>{'id': 24643404, 'id_str': '24643404', 'name':...</td>\n",
       "      <td>2019-06-11 16:33:25+00:00</td>\n",
       "    </tr>\n",
       "    <tr>\n",
       "      <th>9605</th>\n",
       "      <td>5d20eeab6055bb11b1b217bb</td>\n",
       "      <td>None</td>\n",
       "      <td>None</td>\n",
       "      <td>Tue Jun 11 16:33:25 +0000 2019</td>\n",
       "      <td>NaN</td>\n",
       "      <td>{'hashtags': [{'text': 'NintendoE3', 'indices'...</td>\n",
       "      <td>{'media': [{'id': 1138482239807926272, 'id_str...</td>\n",
       "      <td>NaN</td>\n",
       "      <td>0</td>\n",
       "      <td>False</td>\n",
       "      <td>...</td>\n",
       "      <td>NaN</td>\n",
       "      <td>0</td>\n",
       "      <td>0</td>\n",
       "      <td>False</td>\n",
       "      <td>{'created_at': 'Tue Jun 11 16:25:04 +0000 2019...</td>\n",
       "      <td>&lt;a href=\"http://twitter.com\" rel=\"nofollow\"&gt;Tw...</td>\n",
       "      <td>RT @Sam_A_Hartwell: When Animal Crossing hasn'...</td>\n",
       "      <td>False</td>\n",
       "      <td>{'id': 955965647359528960, 'id_str': '95596564...</td>\n",
       "      <td>2019-06-11 16:33:25+00:00</td>\n",
       "    </tr>\n",
       "    <tr>\n",
       "      <th>9606</th>\n",
       "      <td>5d20eeab6055bb11b1b217bc</td>\n",
       "      <td>None</td>\n",
       "      <td>None</td>\n",
       "      <td>Tue Jun 11 16:33:25 +0000 2019</td>\n",
       "      <td>NaN</td>\n",
       "      <td>{'hashtags': [{'text': 'PassTheController', 'i...</td>\n",
       "      <td>NaN</td>\n",
       "      <td>NaN</td>\n",
       "      <td>0</td>\n",
       "      <td>False</td>\n",
       "      <td>...</td>\n",
       "      <td>NaN</td>\n",
       "      <td>0</td>\n",
       "      <td>0</td>\n",
       "      <td>False</td>\n",
       "      <td>{'created_at': 'Tue Jun 11 16:22:14 +0000 2019...</td>\n",
       "      <td>&lt;a href=\"http://twitter.com/#!/download/ipad\" ...</td>\n",
       "      <td>RT @PassController: No More Heroes 3 coming in...</td>\n",
       "      <td>False</td>\n",
       "      <td>{'id': 102732562, 'id_str': '102732562', 'name...</td>\n",
       "      <td>2019-06-11 16:33:25+00:00</td>\n",
       "    </tr>\n",
       "  </tbody>\n",
       "</table>\n",
       "<p>8 rows × 38 columns</p>\n",
       "</div>"
      ],
      "text/plain": [
       "                           _id contributors coordinates  \\\n",
       "9599  5d20eeaa6055bb11b1b217b5         None        None   \n",
       "9600  5d20eeaa6055bb11b1b217b6         None        None   \n",
       "9601  5d20eeaa6055bb11b1b217b7         None        None   \n",
       "9602  5d20eeaa6055bb11b1b217b8         None        None   \n",
       "9603  5d20eeaa6055bb11b1b217b9         None        None   \n",
       "9604  5d20eeab6055bb11b1b217ba         None        None   \n",
       "9605  5d20eeab6055bb11b1b217bb         None        None   \n",
       "9606  5d20eeab6055bb11b1b217bc         None        None   \n",
       "\n",
       "                          created_at display_text_range  \\\n",
       "9599  Tue Jun 11 16:33:25 +0000 2019                NaN   \n",
       "9600  Tue Jun 11 16:33:25 +0000 2019                NaN   \n",
       "9601  Tue Jun 11 16:33:25 +0000 2019            [0, 92]   \n",
       "9602  Tue Jun 11 16:33:25 +0000 2019                NaN   \n",
       "9603  Tue Jun 11 16:33:25 +0000 2019                NaN   \n",
       "9604  Tue Jun 11 16:33:25 +0000 2019                NaN   \n",
       "9605  Tue Jun 11 16:33:25 +0000 2019                NaN   \n",
       "9606  Tue Jun 11 16:33:25 +0000 2019                NaN   \n",
       "\n",
       "                                               entities  \\\n",
       "9599  {'hashtags': [{'text': 'e32019', 'indices': [7...   \n",
       "9600  {'hashtags': [{'text': 'NintendoDirect', 'indi...   \n",
       "9601  {'hashtags': [{'text': 'Cadenceofhyrule', 'ind...   \n",
       "9602  {'hashtags': [{'text': 'NintendoDirect', 'indi...   \n",
       "9603  {'hashtags': [{'text': 'Marvel', 'indices': [0...   \n",
       "9604  {'hashtags': [{'text': 'NintendoE3', 'indices'...   \n",
       "9605  {'hashtags': [{'text': 'NintendoE3', 'indices'...   \n",
       "9606  {'hashtags': [{'text': 'PassTheController', 'i...   \n",
       "\n",
       "                                      extended_entities extended_tweet  \\\n",
       "9599                                                NaN            NaN   \n",
       "9600                                                NaN            NaN   \n",
       "9601  {'media': [{'id': 1138484385215320065, 'id_str...            NaN   \n",
       "9602  {'media': [{'id': 1138484087142965248, 'id_str...            NaN   \n",
       "9603                                                NaN            NaN   \n",
       "9604                                                NaN            NaN   \n",
       "9605  {'media': [{'id': 1138482239807926272, 'id_str...            NaN   \n",
       "9606                                                NaN            NaN   \n",
       "\n",
       "      favorite_count  favorited            ...             \\\n",
       "9599               0      False            ...              \n",
       "9600               0      False            ...              \n",
       "9601               0      False            ...              \n",
       "9602               0      False            ...              \n",
       "9603               0      False            ...              \n",
       "9604               0      False            ...              \n",
       "9605               0      False            ...              \n",
       "9606               0      False            ...              \n",
       "\n",
       "     quoted_status_permalink reply_count  retweet_count retweeted  \\\n",
       "9599                     NaN           0              0     False   \n",
       "9600                     NaN           0              0     False   \n",
       "9601                     NaN           0              0     False   \n",
       "9602                     NaN           0              0     False   \n",
       "9603                     NaN           0              0     False   \n",
       "9604                     NaN           0              0     False   \n",
       "9605                     NaN           0              0     False   \n",
       "9606                     NaN           0              0     False   \n",
       "\n",
       "                                       retweeted_status  \\\n",
       "9599                                                NaN   \n",
       "9600                                                NaN   \n",
       "9601                                                NaN   \n",
       "9602  {'created_at': 'Tue Jun 11 16:32:35 +0000 2019...   \n",
       "9603                                                NaN   \n",
       "9604                                                NaN   \n",
       "9605  {'created_at': 'Tue Jun 11 16:25:04 +0000 2019...   \n",
       "9606  {'created_at': 'Tue Jun 11 16:22:14 +0000 2019...   \n",
       "\n",
       "                                                 source  \\\n",
       "9599  <a href=\"https://about.twitter.com/products/tw...   \n",
       "9600  <a href=\"http://twitter.com/download/android\" ...   \n",
       "9601  <a href=\"http://twitter.com\" rel=\"nofollow\">Tw...   \n",
       "9602  <a href=\"http://twitter.com/download/iphone\" r...   \n",
       "9603  <a href=\"http://twitter.com/download/iphone\" r...   \n",
       "9604  <a href=\"https://about.twitter.com/products/tw...   \n",
       "9605  <a href=\"http://twitter.com\" rel=\"nofollow\">Tw...   \n",
       "9606  <a href=\"http://twitter.com/#!/download/ipad\" ...   \n",
       "\n",
       "                                                   text  truncated  \\\n",
       "9599  I'm more hyped for Marvel Ultimate Alliance th...      False   \n",
       "9600                Eggman gettin it XD #NintendoDirect      False   \n",
       "9601  #Cadenceofhyrule in Two days! That's all I nee...      False   \n",
       "9602  RT @Nibellion: Cadence Of Hyrule dropping June...      False   \n",
       "9603  #Marvel on #Switch looks really good, not gonn...      False   \n",
       "9604  Mario and Sonic getting another Olympics game....      False   \n",
       "9605  RT @Sam_A_Hartwell: When Animal Crossing hasn'...      False   \n",
       "9606  RT @PassController: No More Heroes 3 coming in...      False   \n",
       "\n",
       "                                                   user  \\\n",
       "9599  {'id': 22874597, 'id_str': '22874597', 'name':...   \n",
       "9600  {'id': 255566561, 'id_str': '255566561', 'name...   \n",
       "9601  {'id': 1855266734, 'id_str': '1855266734', 'na...   \n",
       "9602  {'id': 392139718, 'id_str': '392139718', 'name...   \n",
       "9603  {'id': 1129111809003270144, 'id_str': '1129111...   \n",
       "9604  {'id': 24643404, 'id_str': '24643404', 'name':...   \n",
       "9605  {'id': 955965647359528960, 'id_str': '95596564...   \n",
       "9606  {'id': 102732562, 'id_str': '102732562', 'name...   \n",
       "\n",
       "                     timestamp  \n",
       "9599 2019-06-11 16:33:25+00:00  \n",
       "9600 2019-06-11 16:33:25+00:00  \n",
       "9601 2019-06-11 16:33:25+00:00  \n",
       "9602 2019-06-11 16:33:25+00:00  \n",
       "9603 2019-06-11 16:33:25+00:00  \n",
       "9604 2019-06-11 16:33:25+00:00  \n",
       "9605 2019-06-11 16:33:25+00:00  \n",
       "9606 2019-06-11 16:33:25+00:00  \n",
       "\n",
       "[8 rows x 38 columns]"
      ]
     },
     "execution_count": 24,
     "metadata": {},
     "output_type": "execute_result"
    }
   ],
   "source": [
    "tweet_df.loc[tweet_df['timestamp'] == 'Tue Jun 11 16:33:25 +0000 2019']"
   ]
  },
  {
   "cell_type": "code",
   "execution_count": null,
   "metadata": {},
   "outputs": [],
   "source": []
  },
  {
   "cell_type": "code",
   "execution_count": null,
   "metadata": {},
   "outputs": [],
   "source": []
  }
 ],
 "metadata": {
  "kernelspec": {
   "display_name": "Python 3",
   "language": "python",
   "name": "python3"
  },
  "language_info": {
   "codemirror_mode": {
    "name": "ipython",
    "version": 3
   },
   "file_extension": ".py",
   "mimetype": "text/x-python",
   "name": "python",
   "nbconvert_exporter": "python",
   "pygments_lexer": "ipython3",
   "version": "3.7.1"
  }
 },
 "nbformat": 4,
 "nbformat_minor": 2
}
