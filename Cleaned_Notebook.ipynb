{
 "cells": [
  {
   "cell_type": "markdown",
   "metadata": {},
   "source": [
    "# Import Relevant Libraries"
   ]
  },
  {
   "cell_type": "code",
   "execution_count": 1,
   "metadata": {},
   "outputs": [],
   "source": [
    "import json\n",
    "import pandas as pd\n",
    "import numpy as np\n",
    "from pandas.io.json import json_normalize\n",
    "import datetime\n",
    "import string\n",
    "import nltk\n",
    "from sklearn.feature_extraction.text import CountVectorizer\n",
    "import matplotlib.pyplot as plt\n",
    "from math import pi\n",
    "import time \n",
    "\n",
    "from trend_radar_functions import (\n",
    "    reset_index, \n",
    "    json_to_df, \n",
    "    combine_2_dfs,\n",
    "    add_time_to_df,\n",
    "    unique_seconds_list, \n",
    "    second_groupings, \n",
    "    seconds_dict, \n",
    "    unique_words_list,\n",
    "    vectorize_to_df,\n",
    "    words_df,\n",
    "    trend_line,\n",
    "    drop_time_from_df,\n",
    "    create_dictionary_for_specified_time,\n",
    "    top_5_dict_to_df,\n",
    "    radar_plot_creator,\n",
    "    )                             "
   ]
  },
  {
   "cell_type": "markdown",
   "metadata": {},
   "source": [
    "# Load Cleaned DataFrame     \n",
    "Cleaned = no hashtages, web links, @s... no punctuation, lowercase, lemmatized and no stop words"
   ]
  },
  {
   "cell_type": "code",
   "execution_count": 2,
   "metadata": {},
   "outputs": [],
   "source": [
    "import pickle\n",
    "\n",
    "with open('cleaned_twitter_df2.pkl', 'rb') as f:\n",
    "    df = pickle.load(f)"
   ]
  },
  {
   "cell_type": "markdown",
   "metadata": {},
   "source": [
    "Reset index"
   ]
  },
  {
   "cell_type": "code",
   "execution_count": 3,
   "metadata": {},
   "outputs": [],
   "source": [
    "# def reset_index(df):\n",
    "#     df = df.reset_index()\n",
    "#     return df"
   ]
  },
  {
   "cell_type": "markdown",
   "metadata": {},
   "source": [
    "# Load Vader Output"
   ]
  },
  {
   "cell_type": "code",
   "execution_count": 4,
   "metadata": {},
   "outputs": [],
   "source": [
    "import pickle\n",
    "\n",
    "with open('vader_output.pkl', 'rb') as f:\n",
    "    vader_output = pickle.load(f)"
   ]
  },
  {
   "cell_type": "markdown",
   "metadata": {},
   "source": [
    "Convert vader outputs to a dataframe"
   ]
  },
  {
   "cell_type": "code",
   "execution_count": 5,
   "metadata": {},
   "outputs": [],
   "source": [
    "# def json_to_df(json_file):\n",
    "#     df_sentiment = json_normalize(json_file)\n",
    "#     return df_sentiment"
   ]
  },
  {
   "cell_type": "markdown",
   "metadata": {},
   "source": [
    "Append vader outputs to original dataframe   \n",
    "* Reset index of original df\n",
    "* Turned vader sentiments json into df"
   ]
  },
  {
   "cell_type": "code",
   "execution_count": 6,
   "metadata": {},
   "outputs": [],
   "source": [
    "# def combine_2_dfs(df1, df2):\n",
    "#     df = pd.concat([df1, df2], axis=1)\n",
    "#     return df"
   ]
  },
  {
   "cell_type": "code",
   "execution_count": 7,
   "metadata": {},
   "outputs": [],
   "source": [
    "df = combine_2_dfs(reset_index(df),json_to_df(vader_output))"
   ]
  },
  {
   "cell_type": "markdown",
   "metadata": {},
   "source": [
    "# Trend Lines"
   ]
  },
  {
   "cell_type": "markdown",
   "metadata": {},
   "source": [
    "Create new .time. column showing hours, minutes, seconds"
   ]
  },
  {
   "cell_type": "code",
   "execution_count": 8,
   "metadata": {},
   "outputs": [],
   "source": [
    "# def add_time_to_df(df1):\n",
    "#     df1['.time.'] = df1['timestamp_ms'].apply(\n",
    "#         lambda x: time.strftime('%H:%M:%S', \n",
    "#                                 time.gmtime(int(x)/1000)))\n",
    "#     return df1"
   ]
  },
  {
   "cell_type": "code",
   "execution_count": 9,
   "metadata": {},
   "outputs": [],
   "source": [
    "df = add_time_to_df(df)"
   ]
  },
  {
   "cell_type": "markdown",
   "metadata": {},
   "source": [
    "List of every unique second in the data"
   ]
  },
  {
   "cell_type": "code",
   "execution_count": 10,
   "metadata": {},
   "outputs": [],
   "source": [
    "# def unique_seconds_list(df):\n",
    "#     unique_seconds = []\n",
    "#     for times in df['.time.']:\n",
    "#         all_times = []\n",
    "#         all_times.append(times)\n",
    "#         for i in all_times:\n",
    "#             if not i in unique_seconds:\n",
    "#                 unique_seconds.append(i)\n",
    "#     return unique_seconds"
   ]
  },
  {
   "cell_type": "code",
   "execution_count": 11,
   "metadata": {},
   "outputs": [],
   "source": [
    "unique_sec_list = unique_seconds_list(df)"
   ]
  },
  {
   "cell_type": "markdown",
   "metadata": {},
   "source": [
    "Create a list that groups each second into either:\n",
    "\n",
    "* five sec 5 - fifteen sec 15 - thirty sec 30 - \n",
    "* one min 60 - two min 120 - three min 180\n",
    "* five min 300 - ten min 600 - fifteen min 900\n",
    "* twenty min 1200 - thirty min 1800 - forty min 2400\n",
    "* fifty min 3000 - sixty min 3600"
   ]
  },
  {
   "cell_type": "code",
   "execution_count": 12,
   "metadata": {},
   "outputs": [],
   "source": [
    "# def second_groupings(seconds, seconds_list):\n",
    "#     second_groups = []\n",
    "#     for second in seconds_list:\n",
    "#         if len(second_groups)==0:\n",
    "#             second_groups.append(1)\n",
    "#         elif len(second_groups)%seconds != 0:\n",
    "#             second_groups.append(second_groups[-1])\n",
    "#         else:\n",
    "#             second_groups.append(second_groups[-1]+1)\n",
    "#     return second_groups"
   ]
  },
  {
   "cell_type": "code",
   "execution_count": 13,
   "metadata": {},
   "outputs": [],
   "source": [
    "second_group = second_groupings(5, unique_sec_list)"
   ]
  },
  {
   "cell_type": "markdown",
   "metadata": {},
   "source": [
    "Turn the above list into a dictionary"
   ]
  },
  {
   "cell_type": "code",
   "execution_count": 14,
   "metadata": {},
   "outputs": [],
   "source": [
    "# def seconds_dict(seconds, seconds_list):\n",
    "#     second_dict = dict(zip(seconds_list, second_groupings(seconds, seconds_list)))\n",
    "#     return second_dict"
   ]
  },
  {
   "cell_type": "code",
   "execution_count": 15,
   "metadata": {},
   "outputs": [],
   "source": [
    "second_dict = seconds_dict(5, unique_sec_list)"
   ]
  },
  {
   "cell_type": "markdown",
   "metadata": {},
   "source": [
    "Append dictionaries to the dataframe in new columns"
   ]
  },
  {
   "cell_type": "code",
   "execution_count": 16,
   "metadata": {},
   "outputs": [],
   "source": [
    "all_relevant_seconds_for_grouping = [5,15,30,60,120,180,300,600,900,\n",
    "                                     1200,1800,2400,3000,3600]\n",
    "\n",
    "for i in all_relevant_seconds_for_grouping:\n",
    "    df[str(i)+'_seconds'] = df['.time.'].map(seconds_dict(i, unique_sec_list))"
   ]
  },
  {
   "cell_type": "markdown",
   "metadata": {},
   "source": [
    "Create SUM Trend Lines (5 second intervals)"
   ]
  },
  {
   "cell_type": "code",
   "execution_count": 17,
   "metadata": {},
   "outputs": [],
   "source": [
    "# def trend_line(df1, seconds=5, sum_mean='sum'):\n",
    "\n",
    "#     if sum_mean == 'sum':\n",
    "#         temp_df = df1.groupby(str(seconds)+'_seconds').sum()\n",
    "#         temp_df = temp_df.reset_index()\n",
    "#     elif sum_mean == 'mean':\n",
    "#         temp_df = df1.groupby(str(seconds)+'_seconds').mean()\n",
    "#         temp_df = temp_df.reset_index()  \n",
    "\n",
    "#     plt.plot(temp_df[str(seconds)+'_seconds'], temp_df['pos'], color='red')\n",
    "#     plt.plot(temp_df[str(seconds)+'_seconds'], temp_df['neg'], color='grey')\n",
    "#     plt.xlabel('Every 5 Seconds')\n",
    "#     plt.ylabel('Sentiment')\n",
    "#     plt.title('Nintendo E3 Twitter Sentiments (sum)')\n",
    "#     plt.legend()\n",
    "#     return plt.show()"
   ]
  },
  {
   "cell_type": "code",
   "execution_count": 18,
   "metadata": {},
   "outputs": [
    {
     "data": {
      "image/png": "[encoded data removed]",
      "text/plain": [
       "<Figure size 432x288 with 1 Axes>"
      ]
     },
     "metadata": {
      "needs_background": "light"
     },
     "output_type": "display_data"
    }
   ],
   "source": [
    "trend_line(df, 5, 'sum')"
   ]
  },
  {
   "cell_type": "markdown",
   "metadata": {},
   "source": [
    "Create MEAN Trend Lines (5 second intervals)"
   ]
  },
  {
   "cell_type": "code",
   "execution_count": 19,
   "metadata": {},
   "outputs": [
    {
     "data": {
      "image/png": "[encoded data removed]",
      "text/plain": [
       "<Figure size 432x288 with 1 Axes>"
      ]
     },
     "metadata": {
      "needs_background": "light"
     },
     "output_type": "display_data"
    }
   ],
   "source": [
    "trend_line(df, 5, 'mean')"
   ]
  },
  {
   "cell_type": "markdown",
   "metadata": {},
   "source": [
    "# Words DataFrame\n",
    "### To be used for top positive/negative words (radar plots)"
   ]
  },
  {
   "cell_type": "code",
   "execution_count": 20,
   "metadata": {},
   "outputs": [],
   "source": [
    "# def unique_words_list(df1):\n",
    "#     total_words = []\n",
    "#     for i in df1['text2']:\n",
    "#         words = i.split()\n",
    "#         for j in words:\n",
    "#             total_words.append(j)\n",
    "\n",
    "#     unique_words = [] \n",
    "#     for i in total_words:\n",
    "#         if not i in unique_words:\n",
    "#             unique_words.append(i)\n",
    "#     return unique_words"
   ]
  },
  {
   "cell_type": "code",
   "execution_count": 21,
   "metadata": {},
   "outputs": [],
   "source": [
    "# def vectorize_to_df(df1):\n",
    "#     vectorizer = CountVectorizer(vocabulary=unique_words_list(df1))\n",
    "#     vectorized_words = vectorizer.transform(df1['text2'])\n",
    "#     word_array = vectorized_words.toarray()\n",
    "#     matrix_df = pd.DataFrame(word_array, columns=unique_words_list(df1), index=df.index) \n",
    "#     return matrix_df\n"
   ]
  },
  {
   "cell_type": "code",
   "execution_count": 22,
   "metadata": {},
   "outputs": [],
   "source": [
    "# def words_df(df1):\n",
    "#     df = df1.rename(index=str, columns={\"text\": \".text.\", \"lang\": \".lang.\", \"time\":\".time.\"})\n",
    "#     df = df.drop('index', 1)\n",
    "#     df = df.reset_index()\n",
    "#     df = df.rename(index=str, columns={'index': 'df_index'})\n",
    "#     matrix_df = vectorize_to_df(df1).reset_index()\n",
    "#     matrix_df = matrix_df.rename(index=str, columns={'index': 'matrix_df_index'})\n",
    "#     df_words = df.join(matrix_df)\n",
    "#     return df_words\n"
   ]
  },
  {
   "cell_type": "code",
   "execution_count": 23,
   "metadata": {},
   "outputs": [],
   "source": [
    "words_df = words_df(df)"
   ]
  },
  {
   "cell_type": "markdown",
   "metadata": {},
   "source": [
    "# Top Words for Positive/Negative Sentiments"
   ]
  },
  {
   "cell_type": "markdown",
   "metadata": {},
   "source": [
    "There are duplicate .time. columns, remove and replace"
   ]
  },
  {
   "cell_type": "code",
   "execution_count": 24,
   "metadata": {},
   "outputs": [],
   "source": [
    "words_df = drop_time_from_df(words_df)\n",
    "words_df = add_time_to_df(words_df)"
   ]
  },
  {
   "cell_type": "code",
   "execution_count": 25,
   "metadata": {},
   "outputs": [],
   "source": [
    "# def drop_time_from_df(df1):\n",
    "#     df1 = df1.drop('.time.', axis=1)\n",
    "#     return df1"
   ]
  },
  {
   "cell_type": "code",
   "execution_count": 26,
   "metadata": {},
   "outputs": [],
   "source": [
    "# def add_time_to_df(df1):\n",
    "#     df1['.time.'] = df1['timestamp_ms'].apply(\n",
    "#         lambda x: time.strftime('%H:%M:%S', \n",
    "#         time.gmtime(int(x)/1000))) \n",
    "#     return df1"
   ]
  },
  {
   "cell_type": "code",
   "execution_count": 27,
   "metadata": {},
   "outputs": [],
   "source": [
    "# words_df = words_df.drop('.time.', axis=1)\n",
    "# words_df['.time.'] = words_df['timestamp_ms'].apply(lambda x: time.strftime('%H:%M:%S', time.gmtime(int(x)/1000)))"
   ]
  },
  {
   "cell_type": "markdown",
   "metadata": {},
   "source": [
    "Create dictionary of top 5 positive/negative words"
   ]
  },
  {
   "cell_type": "code",
   "execution_count": 28,
   "metadata": {},
   "outputs": [],
   "source": [
    "# def create_dictionary_for_specified_time (df1, time=1, which_five='top'): # choose either 'top' or 'bottom'\n",
    "#     df_filtered_by_seconds = df1.loc[(df1['5_seconds']== time)]  #| (df_words['five_seconds']== 2)]\n",
    "#     dict_by_seconds = df_filtered_by_seconds.to_dict(orient='index')\n",
    "    \n",
    "#     # create a cleaned dictionary for each word labeled by tweet number\n",
    "#     list_of_word_dicts = []\n",
    "#     for key1, val in dict_by_seconds.items():\n",
    "#         u_words = val['text2'].split(' ')\n",
    "#         neg = val['neg']\n",
    "#         compound = val['compound']\n",
    "#         neu = val['neu']\n",
    "#         pos = val['pos']\n",
    "#         for key, value in val.items():\n",
    "#             try:\n",
    "#                 value = float(value)\n",
    "#                 if (value > 0) & (key in u_words) :\n",
    "#                     list_of_word_dicts.append({ \n",
    "#                             'tweet_no': key1,\n",
    "#                             key:{'count': 1, 'compound_sum': compound, 'neg_sum': neg, \n",
    "#                                  'neu_sum': neu, 'pos_sum': pos},\n",
    "#                                                 })\n",
    "#             except:\n",
    "#                 pass\n",
    "    \n",
    "#     # remove duplicate words that appear several times in one tweet\n",
    "#     no_dupl_list_of_word_dicts = [i for n, i in enumerate(list_of_word_dicts) \n",
    "#                                   if i not in list_of_word_dicts[n + 1:]]\n",
    "    \n",
    "#     return_dict = {}\n",
    "#     for i in no_dupl_list_of_word_dicts:\n",
    "#         for key, val in i.items():\n",
    "#             if key is not 'tweet_no':\n",
    "#                 if key not in return_dict.keys():\n",
    "#                     return_dict.update({key : val})\n",
    "#                 else:\n",
    "#                     return_dict[key]['count'] += val['count']\n",
    "#                     return_dict[key]['compound_sum'] += val['compound_sum']\n",
    "#                     return_dict[key]['neg_sum'] += val['neg_sum']\n",
    "#                     return_dict[key]['neu_sum'] += val['neu_sum']\n",
    "#                     return_dict[key]['pos_sum'] += val['pos_sum']\n",
    "                    \n",
    "#     compound_dict = {}\n",
    "#     for key, val in return_dict.items():\n",
    "#         #print(key, val)\n",
    "#         #compound_dict.update({key: val['compound_sum'] })\n",
    "#         compound_dict[key] = val['compound_sum']\n",
    "    \n",
    "#     sorted_compound_dict = sorted(compound_dict.items(), key=lambda kv: kv[1])\n",
    "    \n",
    "#     if which_five == 'top':\n",
    "#         #five_words = dict(sorted_compound_dict[0:5])\n",
    "#         five_words = dict(sorted_compound_dict[-5:])\n",
    "#     elif which_five == 'bottom': \n",
    "#         #five_words = dict(sorted_compound_dict[-5:])\n",
    "#         five_words = dict(sorted_compound_dict[0:5])\n",
    "#     else:\n",
    "#         \"Please choose either 'top' or 'bottom'.\"\n",
    "\n",
    "#     return five_words"
   ]
  },
  {
   "cell_type": "code",
   "execution_count": 29,
   "metadata": {},
   "outputs": [],
   "source": [
    "# def top_5_dict_to_df(df1, which_five='top'):  \n",
    "#     top_5_df = pd.Series(create_dictionary_for_specified_time(df1, which_five=which_five))\n",
    "#     top_5_df = pd.DataFrame(top_5_df)\n",
    "#     top_5_df = top_5_df.T\n",
    "#     top_5_df['group'] = 'A'\n",
    "#     return top_5_df"
   ]
  },
  {
   "cell_type": "code",
   "execution_count": null,
   "metadata": {},
   "outputs": [],
   "source": [
    "#create_dictionary_for_specified_time(words_df, 1, 'top')"
   ]
  },
  {
   "cell_type": "code",
   "execution_count": null,
   "metadata": {},
   "outputs": [],
   "source": [
    "#top_5_dict_to_df(words_df, 'top')"
   ]
  },
  {
   "cell_type": "markdown",
   "metadata": {},
   "source": [
    "# Radar Plots"
   ]
  },
  {
   "cell_type": "code",
   "execution_count": null,
   "metadata": {},
   "outputs": [],
   "source": [
    "#top_5_dict_to_df(words_df, 'top')"
   ]
  },
  {
   "cell_type": "code",
   "execution_count": null,
   "metadata": {},
   "outputs": [],
   "source": [
    "# def radar_plot_creator(df1, which_five='top'):\n",
    "#    # Set data\n",
    "#     radar_df_test = top_5_dict_to_df(df1, which_five)\n",
    "\n",
    "#     # number of variable\n",
    "#     categories=list(radar_df_test)[1:]\n",
    "#     N = len(categories)\n",
    "\n",
    "#     # We are going to plot the first line of the data frame.\n",
    "#     # But we need to repeat the first value to close the circular graph:\n",
    "#     values=radar_df_test.loc[0].drop('group').values.flatten().tolist()\n",
    "#     values += values[:1]\n",
    "#     values\n",
    "\n",
    "#     # What will be the angle of each axis in the plot? (we divide the plot / number of variable)\n",
    "#     angles = [n / float(N) * 2 * pi for n in range(N)]\n",
    "#     angles += angles[:1]\n",
    "\n",
    "#     # Initialise the spider plot\n",
    "#     ax = plt.subplot(111, polar=True)\n",
    "\n",
    "#     # Draw one axe per variable + add labels labels yet\n",
    "#     plt.xticks(angles[:-1], categories, color='grey', size=8)\n",
    "\n",
    "#     # Draw ylabels\n",
    "#     ax.set_rlabel_position(0)\n",
    "#     plt.yticks([-3,-2,-1,0,1,2,3], [\"\",\"\",\"\", 0, \"\", \"\", \"\"], color=\"grey\", size=7)\n",
    "#     plt.ylim(-3,3)\n",
    "\n",
    "#     # Plot data\n",
    "#     if which_five == 'top':\n",
    "#         ax.plot(angles, values, linewidth=1, linestyle='solid', color='red')\n",
    "#     elif which_five == 'bottom':\n",
    "#         ax.plot(angles, values, linewidth=1, linestyle='solid', color='grey')\n",
    "\n",
    "#     # Fill area\n",
    "#     if which_five == 'top':\n",
    "#         testing_radar = ax.fill(angles, values, 'red', alpha=0.1);  \n",
    "#     elif which_five == 'bottom':\n",
    "#         testing_radar = ax.fill(angles, values, 'grey', alpha=0.1);  \n",
    "    \n",
    "#     return testing_radar"
   ]
  },
  {
   "cell_type": "code",
   "execution_count": 32,
   "metadata": {},
   "outputs": [
    {
     "data": {
      "text/plain": [
       "[<matplotlib.patches.Polygon at 0x1a21d06630>]"
      ]
     },
     "execution_count": 32,
     "metadata": {},
     "output_type": "execute_result"
    },
    {
     "data": {
      "image/png": "[encoded data removed]",
      "text/plain": [
       "<Figure size 432x288 with 1 Axes>"
      ]
     },
     "metadata": {
      "needs_background": "dark"
     },
     "output_type": "display_data"
    }
   ],
   "source": [
    "radar_plot_creator(words_df, 'top')\n",
    "#words_df, 'top' 5 or 'bottom' 5, second grouping type in seconds"
   ]
  },
  {
   "cell_type": "code",
   "execution_count": null,
   "metadata": {},
   "outputs": [],
   "source": []
  }
 ],
 "metadata": {
  "kernelspec": {
   "display_name": "Python 3",
   "language": "python",
   "name": "python3"
  },
  "language_info": {
   "codemirror_mode": {
    "name": "ipython",
    "version": 3
   },
   "file_extension": ".py",
   "mimetype": "text/x-python",
   "name": "python",
   "nbconvert_exporter": "python",
   "pygments_lexer": "ipython3",
   "version": "3.7.1"
  }
 },
 "nbformat": 4,
 "nbformat_minor": 2
}
